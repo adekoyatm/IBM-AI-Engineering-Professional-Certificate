{
 "cells": [
  {
   "cell_type": "markdown",
   "metadata": {},
   "source": [
    "<img src=\"https://cf-courses-data.s3.us.cloud-object-storage.appdomain.cloud/IBMDeveloperSkillsNetwork-DL0120EN-SkillsNetwork/images/IDSN-logo.png\" width=\"300\" alt=\"cognitiveclass.ai logo\">\n",
    "\n",
    "<h1 align=\"center\"><font size=\"5\">RECURRENT NETWORKS and LSTM IN DEEP LEARNING</font></h1>\n"
   ]
  },
  {
   "cell_type": "markdown",
   "metadata": {},
   "source": [
    "Estimated time needed: **30** minutes\n"
   ]
  },
  {
   "cell_type": "markdown",
   "metadata": {},
   "source": [
    "<h2>Applying Recurrent Neural Networks/LSTM for Language Modeling</h2>\n",
    "Hello and welcome to this part. In this notebook, we will go over the topic of Language Modelling, and create a Recurrent Neural Network model based on the Long Short-Term Memory unit to train and benchmark on the Penn Treebank dataset. By the end of this notebook, you should be able to understand how TensorFlow builds and executes a RNN model for Language Modelling.\n"
   ]
  },
  {
   "cell_type": "markdown",
   "metadata": {},
   "source": [
    "<h2>The Objective</h2>\n",
    "By now, you should have an understanding of how Recurrent Networks work -- a specialized model to process sequential data by keeping track of the \"state\" or context. In this notebook, we go over a TensorFlow code snippet for creating a model focused on <b>Language Modelling</b> -- a very relevant task that is the cornerstone of many different linguistic problems such as <b>Speech Recognition, Machine Translation and Image Captioning</b>. For this, we will be using the Penn Treebank dataset, which is an often-used dataset for benchmarking Language Modelling models.\n"
   ]
  },
  {
   "cell_type": "markdown",
   "metadata": {},
   "source": [
    "\n",
    "<h2>Table of Contents</h2>\n",
    "<ol>\n",
    "    <li><a href=\"#language_modelling\">What exactly is Language Modelling?</a></li>\n",
    "    <li><a href=\"#treebank_dataset\">The Penn Treebank dataset</a></li>\n",
    "    <li><a href=\"#word_embedding\">Word Embedding</a></li>\n",
    "    <li><a href=\"#building_lstm_model\">Building the LSTM model for Language Modeling</a></li>\n",
    "    <li><a href=\"#ltsm\">LTSM</a></li>\n",
    "</ol>\n",
    "<p></p>\n",
    "</div>\n",
    "<br>\n"
   ]
  },
  {
   "cell_type": "markdown",
   "metadata": {},
   "source": [
    "--------\n"
   ]
  },
  {
   "cell_type": "markdown",
   "metadata": {},
   "source": [
    "<a id=\"language_modelling\"></a>\n",
    "<h2>What exactly is Language Modelling?</h2>\n",
    "Language Modelling, to put it simply, <b>is the task of assigning probabilities to sequences of words</b>. This means that, given a context of one or a sequence of words in the language the model was trained on, the model should provide the next most probable words or sequence of words that follows from the given sequence of words the sentence. Language Modelling is one of the most important tasks in Natural Language Processing.\n",
    "\n",
    "<img src=\"https://ibm.box.com/shared/static/1d1i5gub6wljby2vani2vzxp0xsph702.png\" width=\"1080\">\n",
    "<center><i>Example of a sentence being predicted</i></center>\n",
    "<br><br>\n",
    "In this example, one can see the predictions for the next word of a sentence, given the context \"This is an\". As you can see, this boils down to a sequential data analysis task -- you are given a word or a sequence of words (the input data), and, given the context (the state), you need to find out what is the next word (the prediction). This kind of analysis is very important for language-related tasks such as <b>Speech Recognition, Machine Translation, Image Captioning, Text Correction</b> and many other very relevant problems. \n",
    "\n",
    "<img src=\"https://ibm.box.com/shared/static/az39idf9ipfdpc5ugifpgxnydelhyf3i.png\" width=\"1080\">\n",
    "<center><i>The above example is a schema of an RNN in execution</i></center>\n",
    "<br><br>\n",
    "As the above image shows, Recurrent Network models fit this problem like a glove. Alongside LSTM and its capacity to maintain the model's state for over one thousand time steps, we have all the tools we need to undertake this problem. The goal for this notebook is to create a model that can reach <b>low levels of perplexity</b> on our desired dataset.\n",
    "\n",
    "For Language Modelling problems, <b>perplexity</b> is the way to gauge efficiency. Perplexity is simply a measure of how well a probabilistic model is able to predict its sample. A higher-level way to explain this would be saying that <b>low perplexity means a higher degree of trust in the predictions the model makes</b>. Therefore, the lower perplexity is, the better.\n"
   ]
  },
  {
   "cell_type": "markdown",
   "metadata": {},
   "source": [
    "<a id=\"treebank_dataset\"></a>\n",
    "<h2>The Penn Treebank dataset</h2>\n",
    "Historically, datasets big enough for Natural Language Processing are hard to come by. This is in part due to the necessity of the sentences to be broken down and tagged with a certain degree of correctness -- or else the models trained on it won't be able to be correct at all. This means that we need a <b>large amount of data, annotated by or at least corrected by humans</b>. This is, of course, not an easy task at all.\n",
    "\n",
    "The Penn Treebank, or PTB for short, is a dataset maintained by the University of Pennsylvania. It is <i>huge</i> -- there are over <b>four million and eight hundred thousand</b> annotated words in it, all corrected by humans. It is composed of many different sources, from abstracts of Department of Energy papers to texts from the Library of America. Since it is verifiably correct and of such a huge size, the Penn Treebank is commonly used as a benchmark dataset for Language Modelling.\n",
    "\n",
    "The dataset is divided in different kinds of annotations, such as Piece-of-Speech, Syntactic and Semantic skeletons. For this example, we will simply use a sample of clean, non-annotated words (with the exception of one tag --<code>&lt;unk&gt;</code>\n",
    ", which is used for rare words such as uncommon proper nouns) for our model. This means that we just want to predict what the next words would be, not what they mean in context or their classes on a given sentence.\n",
    "\n",
    "<center>Example of text from the dataset we are going to use, <b>ptb.train</b></center>\n",
    "<br><br>\n",
    "\n",
    "<div class=\"alert alert-block alert-info\" style=\"margin-top: 20px\">\n",
    "    <center>the percentage of lung cancer deaths among the workers at the west <code>&lt;unk&gt;</code> mass. paper factory appears to be the highest for any asbestos workers studied in western industrialized countries he said \n",
    " the plant which is owned by <code>&lt;unk&gt;</code> & <code>&lt;unk&gt;</code> co. was under contract with <code>&lt;unk&gt;</code> to make the cigarette filters \n",
    " the finding probably will support those who argue that the U.S. should regulate the class of asbestos including <code>&lt;unk&gt;</code> more <code>&lt;unk&gt;</code> than the common kind of asbestos <code>&lt;unk&gt;</code> found in most schools and other buildings dr. <code>&lt;unk&gt;</code> said</center>\n",
    "</div>\n"
   ]
  },
  {
   "cell_type": "markdown",
   "metadata": {},
   "source": [
    "<a id=\"word_embedding\"></a>\n",
    "<h2>Word Embeddings</h2><br/>\n",
    "\n",
    "For better processing, in this example, we will make use of <a href=\"https://www.tensorflow.org/tutorials/word2vec/?utm_medium=Exinfluencer&utm_source=Exinfluencer&utm_content=000026UJ&utm_term=10006555&utm_id=NA-SkillsNetwork-Channel-SkillsNetworkCoursesIBMDeveloperSkillsNetworkDL0120ENSkillsNetwork954-2023-01-01\"><b>word embeddings</b></a>, which is <b>a way of representing sentence structures or words as n-dimensional vectors (where n is a reasonably high number, such as 200 or 500) of real numbers</b>. Basically, we will assign each word a randomly-initialized vector, and input those into the network to be processed. After a number of iterations, these vectors are expected to assume values that help the network to correctly predict what it needs to -- in our case, the probable next word in the sentence. This is shown to be a very effective task in Natural Language Processing, and is a commonplace practice.\n",
    "<br><br>\n",
    "<font size=\"4\"><strong>\n",
    "$$Vec(\"Example\") = [0.02, 0.00, 0.00, 0.92, 0.30, \\ldots]$$\n",
    "</strong></font>\n",
    "<br>\n",
    "Word Embedding tends to group up similarly used words <i>reasonably</i> close together in the vectorial space. For example, if we use T-SNE (a dimensional reduction visualization algorithm) to flatten the dimensions of our vectors into a 2-dimensional space and plot these words in a 2-dimensional space, we might see something like this:\n",
    "\n",
    "<img src=\"https://ibm.box.com/shared/static/bqhc5dg879gcoabzhxra1w8rkg3od1cu.png\" width=\"800\">\n",
    "<center><i>T-SNE Mockup with clusters marked for easier visualization</i></center>\n",
    "<br><br>\n",
    "As you can see, words that are frequently used together, in place of each other, or in the same places as them tend to be grouped together -- being closer together the higher they are correlated. For example, \"None\" is pretty semantically close to \"Zero\", while a phrase that uses \"Italy\", you could probably also fit \"Germany\" in it, with little damage to the sentence structure. The vectorial \"closeness\" for similar words like this is a great indicator of a well-built model.\n",
    "\n",
    "<hr>\n",
    " \n"
   ]
  },
  {
   "cell_type": "markdown",
   "metadata": {},
   "source": [
    "We need to import the necessary modules for our code. We need <b><code>numpy</code></b> and <b><code>tensorflow</code></b>, obviously. Additionally, we can import directly the <b><code>tensorflow.models.rnn</code></b> model, which includes the function for building RNNs, and <b><code>tensorflow.models.rnn.ptb.reader</code></b> which is the helper module for getting the input data from the dataset we just downloaded.\n",
    "\n",
    "If you want to learn more take a look at https://github.com/tensorflow/models/blob/master/tutorials/rnn/ptb/reader.py\n"
   ]
  },
  {
   "cell_type": "code",
   "execution_count": 1,
   "metadata": {
    "tags": []
   },
   "outputs": [
    {
     "name": "stdout",
     "output_type": "stream",
     "text": [
      "Requirement already satisfied: tensorflow==2.9.0 in /home/jupyterlab/conda/envs/python/lib/python3.7/site-packages (2.9.0)\n",
      "Requirement already satisfied: absl-py>=1.0.0 in /home/jupyterlab/conda/envs/python/lib/python3.7/site-packages (from tensorflow==2.9.0) (1.4.0)\n",
      "Requirement already satisfied: astunparse>=1.6.0 in /home/jupyterlab/conda/envs/python/lib/python3.7/site-packages (from tensorflow==2.9.0) (1.6.3)\n",
      "Requirement already satisfied: flatbuffers<2,>=1.12 in /home/jupyterlab/conda/envs/python/lib/python3.7/site-packages (from tensorflow==2.9.0) (1.12)\n",
      "Requirement already satisfied: gast<=0.4.0,>=0.2.1 in /home/jupyterlab/conda/envs/python/lib/python3.7/site-packages (from tensorflow==2.9.0) (0.4.0)\n",
      "Requirement already satisfied: google-pasta>=0.1.1 in /home/jupyterlab/conda/envs/python/lib/python3.7/site-packages (from tensorflow==2.9.0) (0.2.0)\n",
      "Requirement already satisfied: grpcio<2.0,>=1.24.3 in /home/jupyterlab/conda/envs/python/lib/python3.7/site-packages (from tensorflow==2.9.0) (1.48.1)\n",
      "Requirement already satisfied: h5py>=2.9.0 in /home/jupyterlab/conda/envs/python/lib/python3.7/site-packages (from tensorflow==2.9.0) (3.8.0)\n",
      "Requirement already satisfied: keras<2.10.0,>=2.9.0rc0 in /home/jupyterlab/conda/envs/python/lib/python3.7/site-packages (from tensorflow==2.9.0) (2.9.0)\n",
      "Requirement already satisfied: keras-preprocessing>=1.1.1 in /home/jupyterlab/conda/envs/python/lib/python3.7/site-packages (from tensorflow==2.9.0) (1.1.2)\n",
      "Requirement already satisfied: libclang>=13.0.0 in /home/jupyterlab/conda/envs/python/lib/python3.7/site-packages (from tensorflow==2.9.0) (16.0.6)\n",
      "Requirement already satisfied: numpy>=1.20 in /home/jupyterlab/conda/envs/python/lib/python3.7/site-packages (from tensorflow==2.9.0) (1.21.6)\n",
      "Requirement already satisfied: opt-einsum>=2.3.2 in /home/jupyterlab/conda/envs/python/lib/python3.7/site-packages (from tensorflow==2.9.0) (3.3.0)\n",
      "Requirement already satisfied: packaging in /home/jupyterlab/conda/envs/python/lib/python3.7/site-packages (from tensorflow==2.9.0) (23.1)\n",
      "Requirement already satisfied: protobuf>=3.9.2 in /home/jupyterlab/conda/envs/python/lib/python3.7/site-packages (from tensorflow==2.9.0) (3.19.6)\n",
      "Requirement already satisfied: setuptools in /home/jupyterlab/conda/envs/python/lib/python3.7/site-packages (from tensorflow==2.9.0) (67.7.2)\n",
      "Requirement already satisfied: six>=1.12.0 in /home/jupyterlab/conda/envs/python/lib/python3.7/site-packages (from tensorflow==2.9.0) (1.16.0)\n",
      "Requirement already satisfied: tensorboard<2.10,>=2.9 in /home/jupyterlab/conda/envs/python/lib/python3.7/site-packages (from tensorflow==2.9.0) (2.9.1)\n",
      "Requirement already satisfied: tensorflow-io-gcs-filesystem>=0.23.1 in /home/jupyterlab/conda/envs/python/lib/python3.7/site-packages (from tensorflow==2.9.0) (0.33.0)\n",
      "Requirement already satisfied: tensorflow-estimator<2.10.0,>=2.9.0rc0 in /home/jupyterlab/conda/envs/python/lib/python3.7/site-packages (from tensorflow==2.9.0) (2.9.0)\n",
      "Requirement already satisfied: termcolor>=1.1.0 in /home/jupyterlab/conda/envs/python/lib/python3.7/site-packages (from tensorflow==2.9.0) (2.3.0)\n",
      "Requirement already satisfied: typing-extensions>=3.6.6 in /home/jupyterlab/conda/envs/python/lib/python3.7/site-packages (from tensorflow==2.9.0) (4.5.0)\n",
      "Requirement already satisfied: wrapt>=1.11.0 in /home/jupyterlab/conda/envs/python/lib/python3.7/site-packages (from tensorflow==2.9.0) (1.14.1)\n",
      "Requirement already satisfied: wheel<1.0,>=0.23.0 in /home/jupyterlab/conda/envs/python/lib/python3.7/site-packages (from astunparse>=1.6.0->tensorflow==2.9.0) (0.40.0)\n",
      "Requirement already satisfied: google-auth<3,>=1.6.3 in /home/jupyterlab/conda/envs/python/lib/python3.7/site-packages (from tensorboard<2.10,>=2.9->tensorflow==2.9.0) (2.22.0)\n",
      "Requirement already satisfied: google-auth-oauthlib<0.5,>=0.4.1 in /home/jupyterlab/conda/envs/python/lib/python3.7/site-packages (from tensorboard<2.10,>=2.9->tensorflow==2.9.0) (0.4.6)\n",
      "Requirement already satisfied: markdown>=2.6.8 in /home/jupyterlab/conda/envs/python/lib/python3.7/site-packages (from tensorboard<2.10,>=2.9->tensorflow==2.9.0) (3.4.3)\n",
      "Requirement already satisfied: requests<3,>=2.21.0 in /home/jupyterlab/conda/envs/python/lib/python3.7/site-packages (from tensorboard<2.10,>=2.9->tensorflow==2.9.0) (2.29.0)\n",
      "Requirement already satisfied: tensorboard-data-server<0.7.0,>=0.6.0 in /home/jupyterlab/conda/envs/python/lib/python3.7/site-packages (from tensorboard<2.10,>=2.9->tensorflow==2.9.0) (0.6.1)\n",
      "Requirement already satisfied: tensorboard-plugin-wit>=1.6.0 in /home/jupyterlab/conda/envs/python/lib/python3.7/site-packages (from tensorboard<2.10,>=2.9->tensorflow==2.9.0) (1.8.1)\n",
      "Requirement already satisfied: werkzeug>=1.0.1 in /home/jupyterlab/conda/envs/python/lib/python3.7/site-packages (from tensorboard<2.10,>=2.9->tensorflow==2.9.0) (2.2.3)\n",
      "Requirement already satisfied: cachetools<6.0,>=2.0.0 in /home/jupyterlab/conda/envs/python/lib/python3.7/site-packages (from google-auth<3,>=1.6.3->tensorboard<2.10,>=2.9->tensorflow==2.9.0) (5.3.1)\n",
      "Requirement already satisfied: pyasn1-modules>=0.2.1 in /home/jupyterlab/conda/envs/python/lib/python3.7/site-packages (from google-auth<3,>=1.6.3->tensorboard<2.10,>=2.9->tensorflow==2.9.0) (0.3.0)\n",
      "Requirement already satisfied: rsa<5,>=3.1.4 in /home/jupyterlab/conda/envs/python/lib/python3.7/site-packages (from google-auth<3,>=1.6.3->tensorboard<2.10,>=2.9->tensorflow==2.9.0) (4.9)\n",
      "Requirement already satisfied: urllib3<2.0 in /home/jupyterlab/conda/envs/python/lib/python3.7/site-packages (from google-auth<3,>=1.6.3->tensorboard<2.10,>=2.9->tensorflow==2.9.0) (1.26.15)\n",
      "Requirement already satisfied: requests-oauthlib>=0.7.0 in /home/jupyterlab/conda/envs/python/lib/python3.7/site-packages (from google-auth-oauthlib<0.5,>=0.4.1->tensorboard<2.10,>=2.9->tensorflow==2.9.0) (1.3.1)\n",
      "Requirement already satisfied: importlib-metadata>=4.4 in /home/jupyterlab/conda/envs/python/lib/python3.7/site-packages (from markdown>=2.6.8->tensorboard<2.10,>=2.9->tensorflow==2.9.0) (4.11.4)\n",
      "Requirement already satisfied: charset-normalizer<4,>=2 in /home/jupyterlab/conda/envs/python/lib/python3.7/site-packages (from requests<3,>=2.21.0->tensorboard<2.10,>=2.9->tensorflow==2.9.0) (3.1.0)\n",
      "Requirement already satisfied: idna<4,>=2.5 in /home/jupyterlab/conda/envs/python/lib/python3.7/site-packages (from requests<3,>=2.21.0->tensorboard<2.10,>=2.9->tensorflow==2.9.0) (3.4)\n",
      "Requirement already satisfied: certifi>=2017.4.17 in /home/jupyterlab/conda/envs/python/lib/python3.7/site-packages (from requests<3,>=2.21.0->tensorboard<2.10,>=2.9->tensorflow==2.9.0) (2023.5.7)\n",
      "Requirement already satisfied: MarkupSafe>=2.1.1 in /home/jupyterlab/conda/envs/python/lib/python3.7/site-packages (from werkzeug>=1.0.1->tensorboard<2.10,>=2.9->tensorflow==2.9.0) (2.1.1)\n",
      "Requirement already satisfied: zipp>=0.5 in /home/jupyterlab/conda/envs/python/lib/python3.7/site-packages (from importlib-metadata>=4.4->markdown>=2.6.8->tensorboard<2.10,>=2.9->tensorflow==2.9.0) (3.15.0)\n",
      "Requirement already satisfied: pyasn1<0.6.0,>=0.4.6 in /home/jupyterlab/conda/envs/python/lib/python3.7/site-packages (from pyasn1-modules>=0.2.1->google-auth<3,>=1.6.3->tensorboard<2.10,>=2.9->tensorflow==2.9.0) (0.5.0)\n",
      "Requirement already satisfied: oauthlib>=3.0.0 in /home/jupyterlab/conda/envs/python/lib/python3.7/site-packages (from requests-oauthlib>=0.7.0->google-auth-oauthlib<0.5,>=0.4.1->tensorboard<2.10,>=2.9->tensorflow==2.9.0) (3.2.2)\n",
      "Collecting numpy==1.21.4\n",
      "  Downloading numpy-1.21.4-cp37-cp37m-manylinux_2_12_x86_64.manylinux2010_x86_64.whl (15.7 MB)\n",
      "\u001b[2K     \u001b[90m━━━━━━━━━━━━━━━━━━━━━━━━━━━━━━━━━━━━━━━━\u001b[0m \u001b[32m15.7/15.7 MB\u001b[0m \u001b[31m76.1 MB/s\u001b[0m eta \u001b[36m0:00:00\u001b[0m00:01\u001b[0m00:01\u001b[0m\n",
      "\u001b[?25hInstalling collected packages: numpy\n",
      "  Attempting uninstall: numpy\n",
      "    Found existing installation: numpy 1.21.6\n",
      "    Uninstalling numpy-1.21.6:\n",
      "      Successfully uninstalled numpy-1.21.6\n",
      "Successfully installed numpy-1.21.4\n"
     ]
    }
   ],
   "source": [
    "!pip install tensorflow==2.9.0\n",
    "!pip install numpy==1.21.4\n"
   ]
  },
  {
   "cell_type": "code",
   "execution_count": 2,
   "metadata": {
    "tags": []
   },
   "outputs": [
    {
     "name": "stderr",
     "output_type": "stream",
     "text": [
      "2023-08-08 05:46:09.446535: I tensorflow/core/util/util.cc:169] oneDNN custom operations are on. You may see slightly different numerical results due to floating-point round-off errors from different computation orders. To turn them off, set the environment variable `TF_ENABLE_ONEDNN_OPTS=0`.\n",
      "2023-08-08 05:46:09.452878: W tensorflow/stream_executor/platform/default/dso_loader.cc:64] Could not load dynamic library 'libcudart.so.11.0'; dlerror: libcudart.so.11.0: cannot open shared object file: No such file or directory\n",
      "2023-08-08 05:46:09.452913: I tensorflow/stream_executor/cuda/cudart_stub.cc:29] Ignore above cudart dlerror if you do not have a GPU set up on your machine.\n"
     ]
    }
   ],
   "source": [
    "import time\n",
    "import numpy as np\n",
    "import tensorflow as tf\n",
    "if not tf.__version__ == '2.9.0':\n",
    "    print(tf.__version__)\n",
    "    raise ValueError('please upgrade to TensorFlow 2.9.0, or restart your Kernel (Kernel->Restart & Clear Output)')"
   ]
  },
  {
   "cell_type": "markdown",
   "metadata": {},
   "source": [
    "IMPORTANT! => Please restart the kernel by clicking on \"Kernel\"->\"Restart and Clear Outout\" and wait until all output disapears. Then your changes are beeing picked up\n"
   ]
  },
  {
   "cell_type": "code",
   "execution_count": 8,
   "metadata": {
    "tags": []
   },
   "outputs": [],
   "source": [
    "!mkdir data\n",
    "!mkdir data/ptb\n",
    "!wget -q -O data/ptb/reader.py https://cf-courses-data.s3.us.cloud-object-storage.appdomain.cloud/IBMDeveloperSkillsNetwork-DL0120EN-SkillsNetwork/labs/Week3/data/ptb/reader.py\n",
    "!cp data/ptb/reader.py .\n",
    "\n"
   ]
  },
  {
   "cell_type": "code",
   "execution_count": 9,
   "metadata": {
    "tags": []
   },
   "outputs": [],
   "source": [
    "# Copyright 2015 The TensorFlow Authors. All Rights Reserved.\n",
    "#\n",
    "# Licensed under the Apache License, Version 2.0 (the \"License\");\n",
    "# you may not use this file except in compliance with the License.\n",
    "# You may obtain a copy of the License at\n",
    "#\n",
    "#     http://www.apache.org/licenses/LICENSE-2.0\n",
    "#\n",
    "# Unless required by applicable law or agreed to in writing, software\n",
    "# distributed under the License is distributed on an \"AS IS\" BASIS,\n",
    "# WITHOUT WARRANTIES OR CONDITIONS OF ANY KIND, either express or implied.\n",
    "# See the License for the specific language governing permissions and\n",
    "# limitations under the License.\n",
    "# ==============================================================================\n",
    "\n",
    "\n",
    "\"\"\"Utilities for parsing PTB text files.\"\"\"\n",
    "from __future__ import absolute_import\n",
    "from __future__ import division\n",
    "from __future__ import print_function\n",
    "\n",
    "import collections\n",
    "import os\n",
    "\n",
    "import numpy as np\n",
    "import tensorflow as tf\n",
    "\n",
    "\n",
    "def _read_words(filename):\n",
    "  with tf.io.gfile.GFile(filename, \"r\") as f:\n",
    "    return f.read().replace(\"\\n\", \"<eos>\").split()\n",
    "\n",
    "\n",
    "def _build_vocab(filename):\n",
    "  data = _read_words(filename)\n",
    "\n",
    "  counter = collections.Counter(data)\n",
    "  count_pairs = sorted(counter.items(), key=lambda x: (-x[1], x[0]))\n",
    "\n",
    "  words, _ = list(zip(*count_pairs))\n",
    "  word_to_id = dict(zip(words, range(len(words))))\n",
    "\n",
    "  return word_to_id\n",
    "\n",
    "\n",
    "def _file_to_word_ids(filename, word_to_id):\n",
    "  data = _read_words(filename)\n",
    "  return [word_to_id[word] for word in data if word in word_to_id]\n",
    "\n",
    "\n",
    "def ptb_raw_data(data_path=None):\n",
    "  \"\"\"Load PTB raw data from data directory \"data_path\".\n",
    "\n",
    "  Reads PTB text files, converts strings to integer ids,\n",
    "  and performs mini-batching of the inputs.\n",
    "\n",
    "  The PTB dataset comes from Tomas Mikolov's webpage:\n",
    "\n",
    "  http://www.fit.vutbr.cz/~imikolov/rnnlm/simple-examples.tgz\n",
    "\n",
    "  Args:\n",
    "    data_path: string path to the directory where simple-examples.tgz has\n",
    "      been extracted.\n",
    "\n",
    "  Returns:\n",
    "    tuple (train_data, valid_data, test_data, vocabulary)\n",
    "    where each of the data objects can be passed to PTBIterator.\n",
    "  \"\"\"\n",
    "\n",
    "  train_path = os.path.join(data_path, \"ptb.train.txt\")\n",
    "  valid_path = os.path.join(data_path, \"ptb.valid.txt\")\n",
    "  test_path = os.path.join(data_path, \"ptb.test.txt\")\n",
    "\n",
    "  word_to_id = _build_vocab(train_path)\n",
    "  train_data = _file_to_word_ids(train_path, word_to_id)\n",
    "  valid_data = _file_to_word_ids(valid_path, word_to_id)\n",
    "  test_data = _file_to_word_ids(test_path, word_to_id)\n",
    "  vocabulary = len(word_to_id)\n",
    "  return train_data, valid_data, test_data, vocabulary, word_to_id\n",
    "\n",
    "\n",
    "def ptb_iterator(raw_data, batch_size, num_steps):\n",
    "  \"\"\"Iterate on the raw PTB data.\n",
    "\n",
    "  This generates batch_size pointers into the raw PTB data, and allows\n",
    "  minibatch iteration along these pointers.\n",
    "\n",
    "  Args:\n",
    "    raw_data: one of the raw data outputs from ptb_raw_data.\n",
    "    batch_size: int, the batch size.\n",
    "    num_steps: int, the number of unrolls.\n",
    "\n",
    "  Yields:\n",
    "    Pairs of the batched data, each a matrix of shape [batch_size, num_steps].\n",
    "    The second element of the tuple is the same data time-shifted to the\n",
    "    right by one.\n",
    "\n",
    "  Raises:\n",
    "    ValueError: if batch_size or num_steps are too high.\n",
    "  \"\"\"\n",
    "  raw_data = np.array(raw_data, dtype=np.int32)\n",
    "\n",
    "  data_len = len(raw_data)\n",
    "  batch_len = data_len // batch_size\n",
    "  data = np.zeros([batch_size, batch_len], dtype=np.int32)\n",
    "  for i in range(batch_size):\n",
    "    data[i] = raw_data[batch_len * i:batch_len * (i + 1)]\n",
    "\n",
    "  epoch_size = (batch_len - 1) // num_steps\n",
    "\n",
    "  if epoch_size == 0:\n",
    "    raise ValueError(\"epoch_size == 0, decrease batch_size or num_steps\")\n",
    "\n",
    "  for i in range(epoch_size):\n",
    "    x = data[:, i*num_steps:(i+1)*num_steps]\n",
    "    y = data[:, i*num_steps+1:(i+1)*num_steps+1]\n",
    "    yield (x, y)"
   ]
  },
  {
   "cell_type": "markdown",
   "metadata": {},
   "source": [
    "<a id=\"building_lstm_model\"></a>\n",
    "<h2>Building the LSTM model for Language Modeling</h2>\n",
    "Now that we know exactly what we are doing, we can start building our model using TensorFlow. The very first thing we need to do is download and extract the <code>simple-examples</code> dataset, which can be done by executing the code cell below.\n"
   ]
  },
  {
   "cell_type": "code",
   "execution_count": 10,
   "metadata": {
    "tags": []
   },
   "outputs": [
    {
     "name": "stdout",
     "output_type": "stream",
     "text": [
      "--2023-08-08 06:00:28--  http://www.fit.vutbr.cz/~imikolov/rnnlm/simple-examples.tgz\n",
      "Resolving www.fit.vutbr.cz (www.fit.vutbr.cz)... 147.229.9.23, 2001:67c:1220:809::93e5:917\n",
      "Connecting to www.fit.vutbr.cz (www.fit.vutbr.cz)|147.229.9.23|:80... connected.\n",
      "HTTP request sent, awaiting response... 200 OK\n",
      "Length: 34869662 (33M) [application/x-gtar]\n",
      "Saving to: ‘simple-examples.tgz.1’\n",
      "\n",
      "simple-examples.tgz 100%[===================>]  33.25M  8.72MB/s    in 3.8s    \n",
      "\n",
      "2023-08-08 06:00:33 (8.72 MB/s) - ‘simple-examples.tgz.1’ saved [34869662/34869662]\n",
      "\n"
     ]
    }
   ],
   "source": [
    "!wget http://www.fit.vutbr.cz/~imikolov/rnnlm/simple-examples.tgz \n",
    "!tar xzf simple-examples.tgz -C data/"
   ]
  },
  {
   "cell_type": "markdown",
   "metadata": {},
   "source": [
    "Additionally, for the sake of making it easy to play around with the model's hyperparameters, we can declare them beforehand. Feel free to change these -- you will see a difference in performance each time you change those!  \n"
   ]
  },
  {
   "cell_type": "code",
   "execution_count": 11,
   "metadata": {
    "tags": []
   },
   "outputs": [],
   "source": [
    "#Initial weight scale\n",
    "init_scale = 0.1\n",
    "#Initial learning rate\n",
    "learning_rate = 1.0\n",
    "#Maximum permissible norm for the gradient (For gradient clipping -- another measure against Exploding Gradients)\n",
    "max_grad_norm = 5\n",
    "#The number of layers in our model\n",
    "num_layers = 2\n",
    "#The total number of recurrence steps, also known as the number of layers when our RNN is \"unfolded\"\n",
    "num_steps = 20\n",
    "#The number of processing units (neurons) in the hidden layers\n",
    "hidden_size_l1 = 256\n",
    "hidden_size_l2 = 128\n",
    "#The maximum number of epochs trained with the initial learning rate\n",
    "max_epoch_decay_lr = 4\n",
    "#The total number of epochs in training\n",
    "max_epoch = 15\n",
    "#The probability for keeping data in the Dropout Layer (This is an optimization, but is outside our scope for this notebook!)\n",
    "#At 1, we ignore the Dropout Layer wrapping.\n",
    "keep_prob = 1\n",
    "#The decay for the learning rate\n",
    "decay = 0.5\n",
    "#The size for each batch of data\n",
    "batch_size = 30\n",
    "#The size of our vocabulary\n",
    "vocab_size = 10000\n",
    "embeding_vector_size= 200\n",
    "#Training flag to separate training from testing\n",
    "is_training = 1\n",
    "#Data directory for our dataset\n",
    "data_dir = \"data/simple-examples/data/\""
   ]
  },
  {
   "cell_type": "markdown",
   "metadata": {},
   "source": [
    "Some clarifications for LSTM architecture based on the arguments:\n",
    "\n",
    "Network structure:\n",
    "<ul>\n",
    "    <li>In this network, the number of LSTM cells are 2. To give the model more expressive power, we can add multiple layers of LSTMs to process the data. The output of the first layer will become the input of the second and so on.\n",
    "    </li>\n",
    "    <li>The recurrence steps is 20, that is, when our RNN is \"Unfolded\", the recurrence step is 20.</li>   \n",
    "    <li>the structure is like:\n",
    "        <ul>\n",
    "            <li>200 input units -> [200x200] Weight -> 200 Hidden units (first layer) -> [200x200] Weight matrix  -> 200 Hidden units (second layer) ->  [200] weight Matrix -> 200 unit output</li>\n",
    "        </ul>\n",
    "    </li>\n",
    "</ul>\n",
    "<br>\n",
    "\n",
    "Input layer: \n",
    "<ul>\n",
    "    <li>The network has 200 input units.</li>\n",
    "    <li>Suppose each word is represented by an embedding vector of dimensionality e=200. The input layer of each cell will have 200 linear units. These e=200 linear units are connected to each of the h=200 LSTM units in the hidden layer (assuming there is only one hidden layer, though our case has 2 layers).\n",
    "    </li>\n",
    "    <li>The input shape is [batch_size, num_steps], that is [30x20]. It will turn into [30x20x200] after embedding, and then 20x[30x200]\n",
    "    </li>\n",
    "</ul>\n",
    "<br>\n",
    "\n",
    "Hidden layer:\n",
    "<ul>\n",
    "    <li>Each LSTM has 200 hidden units which is equivalent to the dimensionality of the embedding words and output.</li>\n",
    "</ul>\n",
    "<br>\n"
   ]
  },
  {
   "cell_type": "markdown",
   "metadata": {},
   "source": [
    "There is a lot to be done and a ton of information to process at the same time, so go over this code slowly. It may seem complex at first, but if you try to apply what you just learned about language modelling to the code you see, you should be able to understand it.\n",
    "\n",
    "This code is adapted from the <a href=\"https://github.com/tensorflow/models\">PTBModel</a> example bundled with the TensorFlow source code.\n",
    "\n",
    "\n",
    "<h3>Training data</h3>\n",
    "The story starts from data:\n",
    "<ul>\n",
    "    <li>Train data is a list of words, of size 929589, represented by numbers, e.g. [9971, 9972, 9974, 9975,...]</li>\n",
    "    <li>We read data as mini-batch of size b=30. Assume the size of each sentence is 20 words (num_steps = 20). Then it will take $$floor(\\frac{N}{b \\times h})+1=1548$$ iterations for the learner to go through all sentences once. Where N is the size of the list of words, b is batch size, and h is size of each sentence. So, the number of iterators is 1548\n",
    "    </li>\n",
    "    <li>Each batch data is read from train dataset of size 600, and shape of [30x20]</li>\n",
    "</ul>\n"
   ]
  },
  {
   "cell_type": "code",
   "execution_count": 12,
   "metadata": {
    "tags": []
   },
   "outputs": [],
   "source": [
    "# Reads the data and separates it into training data, validation data and testing data\n",
    "raw_data = ptb_raw_data(data_dir)\n",
    "train_data, valid_data, test_data, vocab, word_to_id = raw_data"
   ]
  },
  {
   "cell_type": "code",
   "execution_count": 13,
   "metadata": {
    "tags": []
   },
   "outputs": [
    {
     "data": {
      "text/plain": [
       "929589"
      ]
     },
     "execution_count": 13,
     "metadata": {},
     "output_type": "execute_result"
    }
   ],
   "source": [
    "len(train_data)"
   ]
  },
  {
   "cell_type": "code",
   "execution_count": 14,
   "metadata": {
    "tags": []
   },
   "outputs": [
    {
     "name": "stdout",
     "output_type": "stream",
     "text": [
      "['aer', 'banknote', 'berlitz', 'calloway', 'centrust', 'cluett', 'fromstein', 'gitano', 'guterman', 'hydro-quebec', 'ipo', 'kia', 'memotec', 'mlx', 'nahb', 'punts', 'rake', 'regatta', 'rubens', 'sim', 'snack-food', 'ssangyong', 'swapo', 'wachter', '<eos>', 'pierre', '<unk>', 'N', 'years', 'old', 'will', 'join', 'the', 'board', 'as', 'a', 'nonexecutive', 'director', 'nov.', 'N', '<eos>', 'mr.', '<unk>', 'is', 'chairman', 'of', '<unk>', 'n.v.', 'the', 'dutch', 'publishing', 'group', '<eos>', 'rudolph', '<unk>', 'N', 'years', 'old', 'and', 'former', 'chairman', 'of', 'consolidated', 'gold', 'fields', 'plc', 'was', 'named', 'a', 'nonexecutive', 'director', 'of', 'this', 'british', 'industrial', 'conglomerate', '<eos>', 'a', 'form', 'of', 'asbestos', 'once', 'used', 'to', 'make', 'kent', 'cigarette', 'filters', 'has', 'caused', 'a', 'high', 'percentage', 'of', 'cancer', 'deaths', 'among', 'a', 'group', 'of']\n"
     ]
    }
   ],
   "source": [
    "def id_to_word(id_list):\n",
    "    line = []\n",
    "    for w in id_list:\n",
    "        for word, wid in word_to_id.items():\n",
    "            if wid == w:\n",
    "                line.append(word)\n",
    "    return line            \n",
    "                \n",
    "\n",
    "print(id_to_word(train_data[0:100]))"
   ]
  },
  {
   "cell_type": "markdown",
   "metadata": {},
   "source": [
    "Lets just read one mini-batch now and feed our network:\n"
   ]
  },
  {
   "cell_type": "code",
   "execution_count": 15,
   "metadata": {
    "tags": []
   },
   "outputs": [],
   "source": [
    "itera = ptb_iterator(train_data, batch_size, num_steps)\n",
    "first_touple = itera.__next__()\n",
    "_input_data = first_touple[0]\n",
    "_targets = first_touple[1]"
   ]
  },
  {
   "cell_type": "code",
   "execution_count": 16,
   "metadata": {
    "tags": []
   },
   "outputs": [
    {
     "data": {
      "text/plain": [
       "(30, 20)"
      ]
     },
     "execution_count": 16,
     "metadata": {},
     "output_type": "execute_result"
    }
   ],
   "source": [
    "_input_data.shape"
   ]
  },
  {
   "cell_type": "code",
   "execution_count": 17,
   "metadata": {
    "tags": []
   },
   "outputs": [
    {
     "data": {
      "text/plain": [
       "(30, 20)"
      ]
     },
     "execution_count": 17,
     "metadata": {},
     "output_type": "execute_result"
    }
   ],
   "source": [
    "_targets.shape"
   ]
  },
  {
   "cell_type": "markdown",
   "metadata": {},
   "source": [
    "Lets look at 3 sentences of our input x:\n"
   ]
  },
  {
   "cell_type": "code",
   "execution_count": 18,
   "metadata": {
    "tags": []
   },
   "outputs": [
    {
     "data": {
      "text/plain": [
       "array([[9970, 9971, 9972, 9974, 9975, 9976, 9980, 9981, 9982, 9983, 9984,\n",
       "        9986, 9987, 9988, 9989, 9991, 9992, 9993, 9994, 9995],\n",
       "       [2654,    6,  334, 2886,    4,    1,  233,  711,  834,   11,  130,\n",
       "         123,    7,  514,    2,   63,   10,  514,    8,  605],\n",
       "       [   0, 1071,    4,    0,  185,   24,  368,   20,   31, 3109,  954,\n",
       "          12,    3,   21,    2, 2915,    2,   12,    3,   21]],\n",
       "      dtype=int32)"
      ]
     },
     "execution_count": 18,
     "metadata": {},
     "output_type": "execute_result"
    }
   ],
   "source": [
    "_input_data[0:3]"
   ]
  },
  {
   "cell_type": "code",
   "execution_count": 19,
   "metadata": {
    "tags": []
   },
   "outputs": [
    {
     "name": "stdout",
     "output_type": "stream",
     "text": [
      "['aer', 'banknote', 'berlitz', 'calloway', 'centrust', 'cluett', 'fromstein', 'gitano', 'guterman', 'hydro-quebec', 'ipo', 'kia', 'memotec', 'mlx', 'nahb', 'punts', 'rake', 'regatta', 'rubens', 'sim']\n"
     ]
    }
   ],
   "source": [
    "print(id_to_word(_input_data[0,:]))"
   ]
  },
  {
   "cell_type": "markdown",
   "metadata": {},
   "source": [
    "<h3>Embeddings</h3>\n",
    "We have to convert the words in our dataset to vectors of numbers. The traditional approach is to use one-hot encoding method that is usually used for converting categorical values to numerical values. However, One-hot encoded vectors are high-dimensional, sparse and in a big dataset, computationally inefficient. So, we use word2vec approach. It is, in fact, a layer in our LSTM network, where the word IDs will be represented as a dense representation before feeding to the LSTM. \n",
    "\n",
    "The embedded vectors also get updated during the training process of the deep neural network.\n",
    "We create the embeddings for our input data. <b>embedding_vocab</b> is matrix of [10000x200] for all 10000 unique words.\n"
   ]
  },
  {
   "cell_type": "markdown",
   "metadata": {},
   "source": [
    "<b>embedding_lookup()</b> finds the embedded values for our batch of 30x20 words. It  goes to each row of <code>input_data</code>, and for each word in the row/sentence, finds the correspond vector in <code>embedding_dic<code>. <br>\n",
    "It creates a [30x20x200] tensor, so, the first element of <b>inputs</b> (the first sentence), is a matrix of 20x200, which each row of it, is vector representing a word in the sentence.\n"
   ]
  },
  {
   "cell_type": "code",
   "execution_count": 20,
   "metadata": {
    "tags": []
   },
   "outputs": [],
   "source": [
    "embedding_layer = tf.keras.layers.Embedding(vocab_size, embeding_vector_size,batch_input_shape=(batch_size, num_steps),trainable=True,name=\"embedding_vocab\")  "
   ]
  },
  {
   "cell_type": "code",
   "execution_count": 21,
   "metadata": {
    "tags": []
   },
   "outputs": [
    {
     "name": "stderr",
     "output_type": "stream",
     "text": [
      "2023-08-08 06:02:58.577834: W tensorflow/stream_executor/platform/default/dso_loader.cc:64] Could not load dynamic library 'libcuda.so.1'; dlerror: libcuda.so.1: cannot open shared object file: No such file or directory\n",
      "2023-08-08 06:02:58.577903: W tensorflow/stream_executor/cuda/cuda_driver.cc:269] failed call to cuInit: UNKNOWN ERROR (303)\n",
      "2023-08-08 06:02:58.577938: I tensorflow/stream_executor/cuda/cuda_diagnostics.cc:156] kernel driver does not appear to be running on this host (jupyterlab-thrirox006): /proc/driver/nvidia/version does not exist\n",
      "2023-08-08 06:02:58.578561: I tensorflow/core/platform/cpu_feature_guard.cc:193] This TensorFlow binary is optimized with oneAPI Deep Neural Network Library (oneDNN) to use the following CPU instructions in performance-critical operations:  AVX2 AVX512F AVX512_VNNI FMA\n",
      "To enable them in other operations, rebuild TensorFlow with the appropriate compiler flags.\n"
     ]
    },
    {
     "data": {
      "text/plain": [
       "<tf.Tensor: shape=(30, 20, 200), dtype=float32, numpy=\n",
       "array([[[ 4.58316877e-03, -1.27491355e-02, -7.98689201e-03, ...,\n",
       "          3.47892754e-02, -4.81461771e-02,  4.30748612e-03],\n",
       "        [-2.59892829e-02,  4.34853919e-02, -4.02955040e-02, ...,\n",
       "         -3.51644978e-02,  4.68618535e-02,  1.43574141e-02],\n",
       "        [-4.01378274e-02,  1.94002427e-02,  3.04111876e-02, ...,\n",
       "          4.53585386e-03,  2.67996229e-02, -4.86980453e-02],\n",
       "        ...,\n",
       "        [-3.57848629e-02, -3.89838815e-02, -2.10484508e-02, ...,\n",
       "          3.57174017e-02,  7.87366554e-03, -1.41109824e-02],\n",
       "        [ 7.16185570e-03,  1.52675398e-02,  5.47833368e-03, ...,\n",
       "         -1.65864602e-02, -3.75140198e-02,  4.12061699e-02],\n",
       "        [ 2.68918611e-02, -4.43599820e-02, -1.82803161e-02, ...,\n",
       "          3.82714532e-02, -4.05305736e-02, -3.28794606e-02]],\n",
       "\n",
       "       [[-1.61382928e-02, -8.86206701e-03,  4.32948582e-02, ...,\n",
       "          4.38630618e-02,  2.84093060e-02, -1.71539187e-02],\n",
       "        [ 4.41016667e-02, -4.73752134e-02, -1.25740767e-02, ...,\n",
       "         -1.56917572e-02, -7.14577362e-03,  3.31758969e-02],\n",
       "        [-1.20537877e-02,  1.09388679e-03, -4.35334444e-03, ...,\n",
       "         -8.96375254e-03, -1.90939065e-02, -3.89605165e-02],\n",
       "        ...,\n",
       "        [-3.51138338e-02,  3.32084633e-02,  4.30792309e-02, ...,\n",
       "         -1.07584111e-02,  4.84601893e-02,  3.15538533e-02],\n",
       "        [-3.28689367e-02, -3.69189605e-02, -1.46822110e-02, ...,\n",
       "          2.61904858e-02,  1.90632977e-02,  2.10273005e-02],\n",
       "        [-3.76252085e-03,  2.79973783e-02, -2.59009842e-02, ...,\n",
       "         -2.09327228e-02, -4.07275930e-02, -1.08506456e-02]],\n",
       "\n",
       "       [[-3.39498147e-02,  3.22446711e-02, -2.21795961e-03, ...,\n",
       "         -4.52840701e-02,  2.74173357e-02,  2.09789164e-02],\n",
       "        [-3.17002162e-02, -3.32312137e-02,  8.33974034e-03, ...,\n",
       "         -1.32935755e-02,  1.49467476e-02, -7.18550757e-03],\n",
       "        [ 2.00309418e-02,  1.10222474e-02,  3.64828221e-02, ...,\n",
       "         -3.85215171e-02, -3.76166590e-02, -3.47990766e-02],\n",
       "        ...,\n",
       "        [-1.66060776e-03, -1.98781975e-02, -1.46031864e-02, ...,\n",
       "          2.51053683e-02,  2.76473425e-02, -3.33788879e-02],\n",
       "        [ 3.42885740e-02, -4.83423732e-02, -4.68107313e-03, ...,\n",
       "          3.26789506e-02, -7.15397671e-03,  2.86528729e-02],\n",
       "        [-1.64043903e-03,  4.14903425e-02, -4.34106104e-02, ...,\n",
       "          4.75428216e-02,  9.17134434e-03, -3.79676819e-02]],\n",
       "\n",
       "       ...,\n",
       "\n",
       "       [[-3.59075889e-02, -2.69536730e-02,  2.66743824e-03, ...,\n",
       "          4.97068092e-03, -2.33951099e-02, -2.87008416e-02],\n",
       "        [-6.18487597e-03,  2.64548175e-02,  3.27082984e-02, ...,\n",
       "         -2.36252304e-02, -4.68514673e-02, -1.03142373e-02],\n",
       "        [-2.15777401e-02,  4.94072773e-02,  1.84801556e-02, ...,\n",
       "          3.37089226e-03, -2.64930725e-03,  7.29222223e-03],\n",
       "        ...,\n",
       "        [-1.63285844e-02, -1.67713985e-02, -2.85839196e-02, ...,\n",
       "         -3.72357145e-02,  4.54169512e-03, -4.44411635e-02],\n",
       "        [ 2.48508118e-02, -4.22796123e-02,  3.10362503e-03, ...,\n",
       "          3.57737429e-02, -9.17528942e-03,  2.37581842e-02],\n",
       "        [-4.94177230e-02,  4.24526632e-04, -4.07922268e-03, ...,\n",
       "          2.60786675e-02, -4.72963452e-02,  4.66513894e-02]],\n",
       "\n",
       "       [[-2.90505961e-03, -4.82405201e-02, -2.01095343e-02, ...,\n",
       "          4.94494773e-02, -7.47344643e-03, -2.53951903e-02],\n",
       "        [-3.92763689e-03, -1.70054287e-03, -3.51968296e-02, ...,\n",
       "          4.85713147e-02,  8.94181430e-05,  2.08058208e-03],\n",
       "        [ 2.00309418e-02,  1.10222474e-02,  3.64828221e-02, ...,\n",
       "         -3.85215171e-02, -3.76166590e-02, -3.47990766e-02],\n",
       "        ...,\n",
       "        [-2.22327355e-02,  3.86567153e-02,  2.09424235e-02, ...,\n",
       "          3.97809185e-02, -5.57280704e-03, -3.25038321e-02],\n",
       "        [ 4.41016667e-02, -4.73752134e-02, -1.25740767e-02, ...,\n",
       "         -1.56917572e-02, -7.14577362e-03,  3.31758969e-02],\n",
       "        [-1.07403398e-02, -1.45877972e-02,  4.95556742e-03, ...,\n",
       "         -7.32909516e-03, -3.91652584e-02, -3.60147245e-02]],\n",
       "\n",
       "       [[ 1.29021145e-02, -1.19408146e-02,  5.32085821e-03, ...,\n",
       "          2.24259831e-02,  2.90607475e-02,  3.70388143e-02],\n",
       "        [-2.21003182e-02, -4.26439904e-02, -1.96203832e-02, ...,\n",
       "         -3.53345871e-02,  1.96081139e-02,  1.83420517e-02],\n",
       "        [ 5.31857088e-03,  3.87200601e-02,  4.92955372e-03, ...,\n",
       "         -1.06090307e-03,  4.21322882e-04, -3.72922905e-02],\n",
       "        ...,\n",
       "        [-3.37012857e-03, -1.64814815e-02,  4.61452715e-02, ...,\n",
       "         -1.38417706e-02, -4.56997156e-02,  8.10846686e-05],\n",
       "        [-2.86885034e-02, -4.76899035e-02, -7.86672905e-03, ...,\n",
       "         -5.17841429e-03,  3.89579795e-02, -5.12171909e-03],\n",
       "        [-7.13473558e-03,  4.82183695e-03,  2.55248435e-02, ...,\n",
       "         -1.91209670e-02, -2.53221281e-02,  6.58739731e-03]]],\n",
       "      dtype=float32)>"
      ]
     },
     "execution_count": 21,
     "metadata": {},
     "output_type": "execute_result"
    }
   ],
   "source": [
    "# Define where to get the data for our embeddings from\n",
    "inputs = embedding_layer(_input_data)\n",
    "inputs"
   ]
  },
  {
   "cell_type": "markdown",
   "metadata": {},
   "source": [
    "<h3>Constructing Recurrent Neural Networks</h3>\n"
   ]
  },
  {
   "cell_type": "markdown",
   "metadata": {},
   "source": [
    "In this step, we create the stacked LSTM using <b>tf.keras.layers.StackedRNNCells</b>, which is a 2 layer LSTM network:\n"
   ]
  },
  {
   "cell_type": "code",
   "execution_count": 22,
   "metadata": {
    "tags": []
   },
   "outputs": [],
   "source": [
    "lstm_cell_l1 = tf.keras.layers.LSTMCell(hidden_size_l1)\n",
    "lstm_cell_l2 = tf.keras.layers.LSTMCell(hidden_size_l2)"
   ]
  },
  {
   "cell_type": "code",
   "execution_count": 23,
   "metadata": {
    "tags": []
   },
   "outputs": [],
   "source": [
    "stacked_lstm = tf.keras.layers.StackedRNNCells([lstm_cell_l1, lstm_cell_l2])"
   ]
  },
  {
   "cell_type": "markdown",
   "metadata": {},
   "source": [
    "<b>tf.keras.layers.RNN</b> creates a recurrent neural network using <b>stacked_lstm</b>. \n",
    "\n",
    "The input should be a Tensor of shape: [batch_size, max_time, embedding_vector_size], in our case it would be (30, 20, 200)\n"
   ]
  },
  {
   "cell_type": "code",
   "execution_count": 24,
   "metadata": {
    "tags": []
   },
   "outputs": [],
   "source": [
    "layer  =  tf.keras.layers.RNN(stacked_lstm,[batch_size, num_steps],return_state=False,stateful=True,trainable=True)"
   ]
  },
  {
   "cell_type": "markdown",
   "metadata": {},
   "source": [
    "Also, we initialize the states of the nework:\n",
    "\n",
    "<h4>_initial_state</h4>\n",
    "\n",
    "For each LSTM, there are 2 state matrices, c\\_state and m\\_state.  c_state and m_state represent \"Memory State\" and \"Cell State\". Each hidden layer, has a vector of size 30, which keeps the states. so, for 200 hidden units in each LSTM, we have a matrix of size [30x200]\n"
   ]
  },
  {
   "cell_type": "code",
   "execution_count": 25,
   "metadata": {
    "tags": []
   },
   "outputs": [],
   "source": [
    "init_state = tf.Variable(tf.zeros([batch_size,embeding_vector_size]),trainable=False)"
   ]
  },
  {
   "cell_type": "code",
   "execution_count": 26,
   "metadata": {
    "tags": []
   },
   "outputs": [],
   "source": [
    "layer.inital_state = init_state"
   ]
  },
  {
   "cell_type": "code",
   "execution_count": 27,
   "metadata": {
    "tags": []
   },
   "outputs": [
    {
     "data": {
      "text/plain": [
       "<tf.Variable 'Variable:0' shape=(30, 200) dtype=float32, numpy=\n",
       "array([[0., 0., 0., ..., 0., 0., 0.],\n",
       "       [0., 0., 0., ..., 0., 0., 0.],\n",
       "       [0., 0., 0., ..., 0., 0., 0.],\n",
       "       ...,\n",
       "       [0., 0., 0., ..., 0., 0., 0.],\n",
       "       [0., 0., 0., ..., 0., 0., 0.],\n",
       "       [0., 0., 0., ..., 0., 0., 0.]], dtype=float32)>"
      ]
     },
     "execution_count": 27,
     "metadata": {},
     "output_type": "execute_result"
    }
   ],
   "source": [
    "layer.inital_state"
   ]
  },
  {
   "cell_type": "markdown",
   "metadata": {},
   "source": [
    "so, lets look at the outputs. The output of the stackedLSTM comes from 128 hidden_layer, and in each time step(=20), one of them get activated. we use the linear activation to map the 128 hidden layer to a [30X20 matrix]\n"
   ]
  },
  {
   "cell_type": "code",
   "execution_count": 28,
   "metadata": {
    "tags": []
   },
   "outputs": [],
   "source": [
    "outputs = layer(inputs)"
   ]
  },
  {
   "cell_type": "code",
   "execution_count": 29,
   "metadata": {
    "tags": []
   },
   "outputs": [
    {
     "data": {
      "text/plain": [
       "<tf.Tensor: shape=(30, 20, 128), dtype=float32, numpy=\n",
       "array([[[-4.68260027e-04,  6.44953572e-04, -1.05254480e-03, ...,\n",
       "          1.23465914e-04,  4.48059203e-04, -8.47121526e-04],\n",
       "        [ 3.31071242e-05,  2.79744825e-04, -7.69304868e-04, ...,\n",
       "         -7.19663338e-04,  1.79293717e-03, -1.60496857e-03],\n",
       "        [ 7.12265959e-04,  1.32181752e-03, -8.62736430e-04, ...,\n",
       "         -1.52540510e-03,  1.70726457e-03, -2.54721963e-03],\n",
       "        ...,\n",
       "        [-2.37724255e-03, -6.27718749e-04, -2.70394981e-03, ...,\n",
       "         -7.32328137e-03,  2.85854493e-03,  1.97322646e-04],\n",
       "        [-4.66066645e-03, -6.88855303e-04, -2.47047935e-03, ...,\n",
       "         -6.70208177e-03,  3.66754131e-03, -1.55094953e-03],\n",
       "        [-5.53170405e-03,  2.09635196e-04, -2.67374865e-03, ...,\n",
       "         -6.06828183e-03,  5.29129105e-03,  2.71512428e-04]],\n",
       "\n",
       "       [[-7.18872980e-05, -1.10352377e-03,  4.71571024e-04, ...,\n",
       "          2.09080143e-04, -7.82735733e-05,  1.25023173e-04],\n",
       "        [ 1.11944415e-03, -1.50207826e-03, -9.36945580e-05, ...,\n",
       "          1.51926500e-03, -1.54831307e-03, -3.45666573e-04],\n",
       "        [ 2.58552842e-03, -2.49836803e-03, -2.74622347e-04, ...,\n",
       "          3.32194986e-03, -1.10234390e-03, -5.50794590e-04],\n",
       "        ...,\n",
       "        [-4.31414833e-03, -1.14393779e-05,  5.79972286e-04, ...,\n",
       "          3.98335222e-04, -2.74085836e-03,  3.68491281e-04],\n",
       "        [-5.84927388e-03, -2.33163388e-04,  4.30234300e-04, ...,\n",
       "         -2.58868939e-04, -1.26232044e-03, -6.85427687e-04],\n",
       "        [-4.73846821e-03, -9.90203698e-04, -8.85759655e-05, ...,\n",
       "         -1.64370716e-03,  2.35724205e-04, -2.31697864e-04]],\n",
       "\n",
       "       [[ 6.34634518e-04,  4.51455155e-04,  1.70927052e-03, ...,\n",
       "          7.48790044e-04, -2.28283578e-03, -5.70886710e-04],\n",
       "        [ 1.13309349e-03,  1.36151700e-03,  2.42937822e-03, ...,\n",
       "          6.78385666e-04, -3.82766034e-03, -1.23122532e-03],\n",
       "        [ 2.75011361e-03,  1.85932999e-03,  1.32760243e-03, ...,\n",
       "          6.48524903e-04, -3.62795568e-03, -1.49696402e-03],\n",
       "        ...,\n",
       "        [-5.58021304e-04, -3.80272418e-03, -4.59316792e-03, ...,\n",
       "          7.87189754e-04,  1.25901320e-03, -1.09581149e-03],\n",
       "        [-1.70520402e-03, -5.31913899e-03, -3.70789785e-03, ...,\n",
       "          1.24280446e-03,  2.71240249e-03, -1.52384001e-03],\n",
       "        [-2.20837351e-03, -6.60937047e-03, -2.42642313e-03, ...,\n",
       "          8.76519072e-04,  4.16818354e-03, -2.11313926e-03]],\n",
       "\n",
       "       ...,\n",
       "\n",
       "       [[-8.18139233e-04, -3.79038131e-04, -2.37914370e-04, ...,\n",
       "          1.01497641e-03, -6.51439652e-04, -5.52776735e-04],\n",
       "        [-1.91357348e-03, -1.43421115e-03,  1.12635875e-03, ...,\n",
       "          1.94689608e-03, -1.06479321e-03, -1.83802587e-03],\n",
       "        [-3.19083850e-03, -2.31466675e-03,  1.22284354e-03, ...,\n",
       "          2.89298198e-03, -1.54195738e-03, -2.69537116e-03],\n",
       "        ...,\n",
       "        [ 1.49061740e-03, -8.86500906e-03,  2.11283891e-03, ...,\n",
       "          3.28066899e-03,  9.19928681e-03, -2.87166773e-03],\n",
       "        [ 2.34423508e-03, -9.11813229e-03,  2.53208401e-03, ...,\n",
       "          2.61460827e-03,  9.08224471e-03, -2.69705523e-03],\n",
       "        [ 3.19403573e-03, -8.77546892e-03,  3.09224869e-03, ...,\n",
       "          2.12525041e-03,  8.55470542e-03, -2.65881699e-03]],\n",
       "\n",
       "       [[ 9.62464605e-04, -8.87984002e-04, -7.61936768e-04, ...,\n",
       "          8.01755596e-05, -9.97527037e-04, -7.80451694e-04],\n",
       "        [ 1.13489083e-03, -2.97897495e-03, -9.75179311e-04, ...,\n",
       "          1.30619446e-03, -2.87581328e-03, -9.86021478e-04],\n",
       "        [ 2.49930471e-03, -3.62453097e-03, -2.05599819e-03, ...,\n",
       "          1.85890717e-03, -2.71125929e-03, -1.31727604e-03],\n",
       "        ...,\n",
       "        [-4.44360962e-03, -7.46864174e-03,  2.20905454e-03, ...,\n",
       "          6.33114204e-03,  1.45759448e-04, -6.72734156e-03],\n",
       "        [-3.19966162e-03, -7.88502209e-03,  1.86296646e-03, ...,\n",
       "          7.70795997e-03, -2.56908196e-03, -7.42615480e-03],\n",
       "        [-2.48405058e-03, -7.64872599e-03,  2.22605653e-03, ...,\n",
       "          7.16359355e-03, -4.99547645e-03, -8.26720707e-03]],\n",
       "\n",
       "       [[-1.94905140e-03,  2.29820420e-04, -9.31423274e-04, ...,\n",
       "          1.03644954e-04,  4.86016856e-04, -9.41987455e-05],\n",
       "        [-1.56735396e-03,  5.81685163e-04, -1.64177571e-03, ...,\n",
       "          7.97440938e-04,  1.79871114e-03,  2.60433037e-04],\n",
       "        [-2.39407877e-03,  1.08602177e-03, -2.83137732e-03, ...,\n",
       "          1.60564284e-03,  1.69687369e-03,  1.10266742e-03],\n",
       "        ...,\n",
       "        [-1.51916209e-03, -1.91684312e-03, -2.53837649e-03, ...,\n",
       "          2.02764233e-04, -1.96168502e-03, -4.40847874e-03],\n",
       "        [-7.32483924e-04, -2.84824724e-04, -1.96023961e-03, ...,\n",
       "         -1.08800619e-03, -2.04328634e-03, -4.20093024e-03],\n",
       "        [-2.10523955e-03,  1.58605655e-03, -2.76634283e-03, ...,\n",
       "         -2.38561723e-03, -3.06662405e-03, -2.94324919e-03]]],\n",
       "      dtype=float32)>"
      ]
     },
     "execution_count": 29,
     "metadata": {},
     "output_type": "execute_result"
    }
   ],
   "source": [
    "outputs"
   ]
  },
  {
   "cell_type": "markdown",
   "metadata": {},
   "source": [
    "<h2>Dense layer</h2>\n",
    "We now create densely-connected neural network layer that would reshape the outputs tensor from  [30 x 20 x 128] to [30 x 20 x 10000].\n"
   ]
  },
  {
   "cell_type": "code",
   "execution_count": 30,
   "metadata": {
    "tags": []
   },
   "outputs": [],
   "source": [
    "dense = tf.keras.layers.Dense(vocab_size)"
   ]
  },
  {
   "cell_type": "code",
   "execution_count": 31,
   "metadata": {
    "tags": []
   },
   "outputs": [],
   "source": [
    "logits_outputs  = dense(outputs)"
   ]
  },
  {
   "cell_type": "code",
   "execution_count": 32,
   "metadata": {
    "tags": []
   },
   "outputs": [
    {
     "name": "stdout",
     "output_type": "stream",
     "text": [
      "shape of the output from dense layer:  (30, 20, 10000)\n"
     ]
    }
   ],
   "source": [
    "print(\"shape of the output from dense layer: \", logits_outputs.shape) #(batch_size, sequence_length, vocab_size)"
   ]
  },
  {
   "cell_type": "markdown",
   "metadata": {},
   "source": [
    "<h2>Activation layer</h2>\n",
    "\n",
    "\n",
    "A softmax activation layers is also then applied to derive the probability of the output being in any of the multiclass(10000 in this case) possibilities. \n"
   ]
  },
  {
   "cell_type": "code",
   "execution_count": 33,
   "metadata": {
    "tags": []
   },
   "outputs": [],
   "source": [
    "activation = tf.keras.layers.Activation('softmax')"
   ]
  },
  {
   "cell_type": "code",
   "execution_count": 34,
   "metadata": {
    "tags": []
   },
   "outputs": [],
   "source": [
    "output_words_prob = activation(logits_outputs)"
   ]
  },
  {
   "cell_type": "code",
   "execution_count": 35,
   "metadata": {
    "tags": []
   },
   "outputs": [
    {
     "name": "stdout",
     "output_type": "stream",
     "text": [
      "shape of the output from the activation layer:  (30, 20, 10000)\n"
     ]
    }
   ],
   "source": [
    "print(\"shape of the output from the activation layer: \", output_words_prob.shape) #(batch_size, sequence_length, vocab_size)"
   ]
  },
  {
   "cell_type": "markdown",
   "metadata": {},
   "source": [
    "Lets look at the probability of observing words for t=0 to t=20:\n"
   ]
  },
  {
   "cell_type": "code",
   "execution_count": 36,
   "metadata": {
    "tags": []
   },
   "outputs": [
    {
     "name": "stdout",
     "output_type": "stream",
     "text": [
      "The probability of observing words in t=0 to t=20 tf.Tensor(\n",
      "[[1.00034871e-04 9.99857148e-05 9.99685872e-05 ... 9.99823824e-05\n",
      "  9.99968179e-05 9.99881886e-05]\n",
      " [1.00045996e-04 9.99746553e-05 9.99688491e-05 ... 9.99792828e-05\n",
      "  9.99972835e-05 9.99956974e-05]\n",
      " [1.00056634e-04 9.99891054e-05 9.99792974e-05 ... 9.99633994e-05\n",
      "  1.00004123e-04 1.00001795e-04]\n",
      " ...\n",
      " [9.99482218e-05 9.99920012e-05 1.00097626e-04 ... 9.99148615e-05\n",
      "  1.00152654e-04 1.00001642e-04]\n",
      " [9.99740805e-05 9.99815456e-05 1.00087906e-04 ... 9.99467302e-05\n",
      "  1.00131816e-04 9.99990443e-05]\n",
      " [9.99933327e-05 9.99637778e-05 1.00094796e-04 ... 9.99510157e-05\n",
      "  1.00104306e-04 1.00001664e-04]], shape=(20, 10000), dtype=float32)\n"
     ]
    }
   ],
   "source": [
    "print(\"The probability of observing words in t=0 to t=20\", output_words_prob[0,0:num_steps])"
   ]
  },
  {
   "cell_type": "markdown",
   "metadata": {},
   "source": [
    "<h3>Prediction</h3>\n",
    "What is the word correspond to the probability output? Lets use the maximum probability:\n"
   ]
  },
  {
   "cell_type": "code",
   "execution_count": 37,
   "metadata": {
    "tags": []
   },
   "outputs": [
    {
     "data": {
      "text/plain": [
       "array([4869, 7873, 4471, 6253, 1583, 2691, 1961, 2691, 5820, 2819, 2819,\n",
       "       2819, 2819, 2819, 5134, 1029, 1029, 1029, 7100, 7100])"
      ]
     },
     "execution_count": 37,
     "metadata": {},
     "output_type": "execute_result"
    }
   ],
   "source": [
    "np.argmax(output_words_prob[0,0:num_steps], axis=1)"
   ]
  },
  {
   "cell_type": "markdown",
   "metadata": {},
   "source": [
    "So, what is the ground truth for the first word of first sentence? You can get it from target tensor, if you want to find the embedding vector: \n"
   ]
  },
  {
   "cell_type": "code",
   "execution_count": 38,
   "metadata": {
    "tags": []
   },
   "outputs": [
    {
     "data": {
      "text/plain": [
       "array([9971, 9972, 9974, 9975, 9976, 9980, 9981, 9982, 9983, 9984, 9986,\n",
       "       9987, 9988, 9989, 9991, 9992, 9993, 9994, 9995, 9996], dtype=int32)"
      ]
     },
     "execution_count": 38,
     "metadata": {},
     "output_type": "execute_result"
    }
   ],
   "source": [
    "_targets[0]"
   ]
  },
  {
   "cell_type": "markdown",
   "metadata": {},
   "source": [
    "<h4>Objective function</h4>\n",
    "\n",
    "\n",
    "How similar the predicted words are to the target words?\n",
    "\n",
    "\n",
    "Now we have to define our objective function, to calculate the similarity of predicted values to ground truth, and then, penalize the model with the error. Our objective is to minimize loss function, that is, to minimize the average negative log probability of the target words:\n",
    "\n",
    "$$\\text{loss} = -\\frac{1}{N}\\sum_{i=1}^{N} \\ln p_{\\text{target}_i}$$\n",
    "\n",
    "This function is already implemented and available in TensorFlow through *tf.keras.losses.sparse_categorical_crossentropy*. It calculates the categorical cross-entropy loss for <b>logits</b> and the <b>target</b> sequence.  \n",
    "\n",
    "The arguments of this function are:  \n",
    "<ul>\n",
    "    <li>logits: List of 2D Tensors of shape [batch_size x num_decoder_symbols].</li>  \n",
    "    <li>targets: List of 1D batch-sized int32 Tensors of the same length as logits.</li>   \n",
    "</ul>\n"
   ]
  },
  {
   "cell_type": "code",
   "execution_count": 39,
   "metadata": {
    "tags": []
   },
   "outputs": [],
   "source": [
    "def crossentropy(y_true, y_pred):\n",
    "    return tf.keras.losses.sparse_categorical_crossentropy(y_true, y_pred)"
   ]
  },
  {
   "cell_type": "code",
   "execution_count": 40,
   "metadata": {
    "tags": []
   },
   "outputs": [],
   "source": [
    "loss  = crossentropy(_targets, output_words_prob)"
   ]
  },
  {
   "cell_type": "markdown",
   "metadata": {},
   "source": [
    "Lets look at the first 10 values of loss:\n"
   ]
  },
  {
   "cell_type": "code",
   "execution_count": 41,
   "metadata": {
    "tags": []
   },
   "outputs": [
    {
     "data": {
      "text/plain": [
       "<tf.Tensor: shape=(10,), dtype=float32, numpy=\n",
       "array([9.210393, 9.21075 , 9.210728, 9.209856, 9.210415, 9.21004 ,\n",
       "       9.210655, 9.209163, 9.210952, 9.21033 ], dtype=float32)>"
      ]
     },
     "execution_count": 41,
     "metadata": {},
     "output_type": "execute_result"
    }
   ],
   "source": [
    "loss[0,:10]"
   ]
  },
  {
   "cell_type": "markdown",
   "metadata": {},
   "source": [
    "Now, we define cost as average of the losses:\n"
   ]
  },
  {
   "cell_type": "code",
   "execution_count": 42,
   "metadata": {
    "tags": []
   },
   "outputs": [
    {
     "data": {
      "text/plain": [
       "<tf.Tensor: shape=(), dtype=float32, numpy=184.20657>"
      ]
     },
     "execution_count": 42,
     "metadata": {},
     "output_type": "execute_result"
    }
   ],
   "source": [
    "cost = tf.reduce_sum(loss / batch_size)\n",
    "cost"
   ]
  },
  {
   "cell_type": "markdown",
   "metadata": {},
   "source": [
    "<h3>Training</h3>\n",
    "\n",
    "To do training for our network, we have to take the following steps:\n",
    "<ol>\n",
    "    <li>Define the optimizer.</li>\n",
    "    <li>Assemble layers to build model.</li>\n",
    "    <li>Calculate the gradients based on the loss function.</li>\n",
    "    <li>Apply the optimizer to the variables/gradients tuple.</li>\n",
    "</ol>\n"
   ]
  },
  {
   "cell_type": "markdown",
   "metadata": {},
   "source": [
    "<h4>1. Define Optimizer</h4>\n",
    "\n"
   ]
  },
  {
   "cell_type": "code",
   "execution_count": 43,
   "metadata": {
    "tags": []
   },
   "outputs": [
    {
     "name": "stderr",
     "output_type": "stream",
     "text": [
      "/home/jupyterlab/conda/envs/python/lib/python3.7/site-packages/keras/optimizers/optimizer_v2/gradient_descent.py:108: UserWarning: The `lr` argument is deprecated, use `learning_rate` instead.\n",
      "  super(SGD, self).__init__(name, **kwargs)\n"
     ]
    }
   ],
   "source": [
    "# Create a variable for the learning rate\n",
    "lr = tf.Variable(0.0, trainable=False)\n",
    "optimizer = tf.keras.optimizers.SGD(lr=lr, clipnorm=max_grad_norm)"
   ]
  },
  {
   "cell_type": "markdown",
   "metadata": {},
   "source": [
    "<h4>2. Assemble layers to build model.</h4>\n"
   ]
  },
  {
   "cell_type": "code",
   "execution_count": 44,
   "metadata": {
    "tags": []
   },
   "outputs": [
    {
     "name": "stdout",
     "output_type": "stream",
     "text": [
      "Model: \"sequential\"\n",
      "_________________________________________________________________\n",
      " Layer (type)                Output Shape              Param #   \n",
      "=================================================================\n",
      " embedding_vocab (Embedding)  (30, 20, 200)            2000000   \n",
      "                                                                 \n",
      " rnn (RNN)                   (30, 20, 128)             671088    \n",
      "                                                                 \n",
      " dense (Dense)               (30, 20, 10000)           1290000   \n",
      "                                                                 \n",
      " activation (Activation)     (30, 20, 10000)           0         \n",
      "                                                                 \n",
      "=================================================================\n",
      "Total params: 3,961,088\n",
      "Trainable params: 3,955,088\n",
      "Non-trainable params: 6,000\n",
      "_________________________________________________________________\n"
     ]
    }
   ],
   "source": [
    "model = tf.keras.Sequential()\n",
    "model.add(embedding_layer)\n",
    "model.add(layer)\n",
    "model.add(dense)\n",
    "model.add(activation)\n",
    "model.compile(loss=crossentropy, optimizer=optimizer)\n",
    "model.summary()"
   ]
  },
  {
   "cell_type": "markdown",
   "metadata": {},
   "source": [
    "\n",
    "<h4>2. Trainable Variables</h4>\n"
   ]
  },
  {
   "cell_type": "markdown",
   "metadata": {},
   "source": [
    "Defining a variable, if you passed <i>trainable=True</i>, the variable constructor automatically adds new variables to the graph collection <b>GraphKeys.TRAINABLE_VARIABLES</b>. Now, using <i>tf.trainable_variables()</i> you can get all variables created with <b>trainable=True</b>.\n"
   ]
  },
  {
   "cell_type": "code",
   "execution_count": 45,
   "metadata": {
    "tags": []
   },
   "outputs": [],
   "source": [
    "# Get all TensorFlow variables marked as \"trainable\" (i.e. all of them except _lr, which we just created)\n",
    "tvars = model.trainable_variables"
   ]
  },
  {
   "cell_type": "markdown",
   "metadata": {},
   "source": [
    "Note: we can find the name and scope of all variables:\n"
   ]
  },
  {
   "cell_type": "code",
   "execution_count": 46,
   "metadata": {
    "tags": []
   },
   "outputs": [
    {
     "data": {
      "text/plain": [
       "['embedding_vocab/embeddings:0',\n",
       " 'rnn/stacked_rnn_cells/lstm_cell/kernel:0',\n",
       " 'rnn/stacked_rnn_cells/lstm_cell/recurrent_kernel:0',\n",
       " 'rnn/stacked_rnn_cells/lstm_cell/bias:0',\n",
       " 'rnn/stacked_rnn_cells/lstm_cell_1/kernel:0',\n",
       " 'rnn/stacked_rnn_cells/lstm_cell_1/recurrent_kernel:0',\n",
       " 'rnn/stacked_rnn_cells/lstm_cell_1/bias:0',\n",
       " 'dense/kernel:0',\n",
       " 'dense/bias:0']"
      ]
     },
     "execution_count": 46,
     "metadata": {},
     "output_type": "execute_result"
    }
   ],
   "source": [
    "[v.name for v in tvars] "
   ]
  },
  {
   "cell_type": "markdown",
   "metadata": {},
   "source": [
    "<h4>3. Calculate the gradients based on the loss function</h4>\n"
   ]
  },
  {
   "cell_type": "markdown",
   "metadata": {},
   "source": [
    "**Gradient**: The gradient of a function is the slope of its derivative (line), or in other words, the rate of change of a function. It's a vector (a direction to move) that points in the direction of greatest increase of the function, and calculated by the <b>derivative</b> operation.\n"
   ]
  },
  {
   "cell_type": "markdown",
   "metadata": {},
   "source": [
    "First lets recall the gradient function using an toy example:\n",
    "$$ z = \\left(2x^2 + 3xy\\right)$$\n"
   ]
  },
  {
   "cell_type": "code",
   "execution_count": 47,
   "metadata": {
    "tags": []
   },
   "outputs": [],
   "source": [
    "x = tf.constant(1.0)\n",
    "y =  tf.constant(2.0)\n",
    "with tf.GradientTape(persistent=True) as g:\n",
    "    g.watch(x)\n",
    "    g.watch(y)\n",
    "    func_test = 2 * x * x + 3 * x * y"
   ]
  },
  {
   "cell_type": "markdown",
   "metadata": {},
   "source": [
    "The <b>tf.gradients()</b> function allows you to compute the symbolic gradient of one tensor with respect to one or more other tensors—including variables. <b>tf.gradients(func, xs)</b> constructs symbolic partial derivatives of sum of <b>func</b> w.r.t. <i>x</i> in <b>xs</b>. \n",
    "\n",
    "Now, lets look at the derivitive w.r.t. <b>var_x</b>:\n",
    "$$ \\frac{\\partial \\:}{\\partial \\:x}\\left(2x^2 + 3xy\\right) = 4x + 3y $$\n"
   ]
  },
  {
   "cell_type": "code",
   "execution_count": 48,
   "metadata": {
    "tags": []
   },
   "outputs": [
    {
     "name": "stdout",
     "output_type": "stream",
     "text": [
      "tf.Tensor(10.0, shape=(), dtype=float32)\n"
     ]
    }
   ],
   "source": [
    "var_grad = g.gradient(func_test, x) # Will compute to 10.0\n",
    "print(var_grad)"
   ]
  },
  {
   "cell_type": "markdown",
   "metadata": {},
   "source": [
    "the derivative w.r.t. <b>var_y</b>:\n",
    "$$ \\frac{\\partial \\:}{\\partial \\:y}\\left(2x^2 + 3xy\\right) = 3x $$\n"
   ]
  },
  {
   "cell_type": "code",
   "execution_count": 49,
   "metadata": {
    "tags": []
   },
   "outputs": [
    {
     "name": "stdout",
     "output_type": "stream",
     "text": [
      "tf.Tensor(3.0, shape=(), dtype=float32)\n"
     ]
    }
   ],
   "source": [
    "var_grad = g.gradient(func_test, y) # Will compute to 3.0\n",
    "print(var_grad)"
   ]
  },
  {
   "cell_type": "markdown",
   "metadata": {},
   "source": [
    "Now, we can look at gradients w.r.t all variables:\n"
   ]
  },
  {
   "cell_type": "code",
   "execution_count": 50,
   "metadata": {
    "tags": []
   },
   "outputs": [],
   "source": [
    "with tf.GradientTape() as tape:\n",
    "    # Forward pass.\n",
    "    output_words_prob = model(_input_data)\n",
    "    # Loss value for this batch.\n",
    "    loss  = crossentropy(_targets, output_words_prob)\n",
    "    cost = tf.reduce_sum(loss,axis=0) / batch_size"
   ]
  },
  {
   "cell_type": "code",
   "execution_count": 51,
   "metadata": {
    "tags": []
   },
   "outputs": [],
   "source": [
    "# Get gradients of loss wrt the trainable variables.\n",
    "grad_t_list = tape.gradient(cost, tvars)"
   ]
  },
  {
   "cell_type": "code",
   "execution_count": 52,
   "metadata": {
    "tags": []
   },
   "outputs": [
    {
     "name": "stdout",
     "output_type": "stream",
     "text": [
      "[<tensorflow.python.framework.indexed_slices.IndexedSlices object at 0x7f4904d9a4d0>, <tf.Tensor: shape=(200, 1024), dtype=float32, numpy=\n",
      "array([[-9.0600984e-08,  3.9008040e-07, -2.8831522e-07, ...,\n",
      "         3.0742069e-07, -2.5637053e-07,  1.3692697e-07],\n",
      "       [ 4.2513381e-07,  3.8906930e-07, -5.3145777e-07, ...,\n",
      "         4.3551088e-07, -3.9170396e-07, -6.6218439e-07],\n",
      "       [ 3.2390892e-07, -2.1164067e-07, -1.8592081e-07, ...,\n",
      "        -6.8776082e-08,  5.5398282e-09, -1.6193839e-07],\n",
      "       ...,\n",
      "       [ 1.0191009e-07,  6.7032124e-07,  3.5991974e-07, ...,\n",
      "         1.7675072e-07, -2.8598132e-07,  9.5736789e-07],\n",
      "       [-2.5429213e-08,  1.3126559e-06,  7.6717413e-08, ...,\n",
      "        -1.3769979e-07,  1.5923843e-07, -1.3331187e-07],\n",
      "       [-2.5823576e-07,  5.3418432e-07, -7.0885449e-07, ...,\n",
      "         1.0072917e-07, -2.0666882e-07,  2.1755420e-07]], dtype=float32)>, <tf.Tensor: shape=(256, 1024), dtype=float32, numpy=\n",
      "array([[-1.19094231e-07, -1.06825766e-07, -3.77749991e-08, ...,\n",
      "        -7.89900554e-08, -1.09408973e-07,  7.56288046e-08],\n",
      "       [ 2.99412619e-08, -1.35992337e-07,  3.89415362e-08, ...,\n",
      "        -7.83353329e-08, -1.07268640e-07, -2.25168179e-07],\n",
      "       [-1.50271688e-08, -2.33175967e-09,  8.50175752e-08, ...,\n",
      "        -6.20995024e-08, -1.39778740e-08,  3.48508173e-08],\n",
      "       ...,\n",
      "       [ 5.50973915e-08, -1.54501464e-07,  3.22043320e-07, ...,\n",
      "         1.09602183e-07, -3.13502788e-08,  9.43741725e-08],\n",
      "       [-5.41189813e-08,  1.30480259e-07,  6.69505482e-08, ...,\n",
      "        -3.67728887e-08,  3.95249486e-07,  1.62932032e-08],\n",
      "       [ 2.39788474e-08,  1.82029787e-08, -1.35064866e-07, ...,\n",
      "        -4.82353002e-08,  3.50435059e-08, -5.17615717e-07]], dtype=float32)>, <tf.Tensor: shape=(1024,), dtype=float32, numpy=\n",
      "array([-1.6769742e-05,  3.4986417e-05, -3.3634438e-05, ...,\n",
      "       -6.6027369e-06,  5.1861543e-06,  2.6845055e-05], dtype=float32)>, <tf.Tensor: shape=(256, 512), dtype=float32, numpy=\n",
      "array([[-2.38594879e-07,  1.83811188e-08,  9.37174320e-08, ...,\n",
      "         3.44525048e-08,  5.68903928e-08, -1.64139578e-07],\n",
      "       [-3.06205379e-07, -1.18971668e-08,  2.23905630e-07, ...,\n",
      "        -5.11977163e-08, -3.85901330e-07, -1.47493267e-07],\n",
      "       [-1.90761241e-07,  9.58649267e-08,  9.22244041e-08, ...,\n",
      "         1.72772857e-07, -1.04750086e-07,  2.26509059e-07],\n",
      "       ...,\n",
      "       [-1.09380082e-07, -4.70826578e-08,  3.08258024e-07, ...,\n",
      "        -1.41451267e-07, -1.53023805e-07,  8.59297771e-08],\n",
      "       [ 2.07600422e-07, -4.77464503e-08, -6.77915608e-08, ...,\n",
      "        -5.07134601e-09, -1.75055106e-07,  2.39533051e-07],\n",
      "       [ 1.55343599e-07, -1.10480469e-08,  2.65776379e-08, ...,\n",
      "        -1.47887292e-07, -2.17927806e-07, -7.39776382e-08]], dtype=float32)>, <tf.Tensor: shape=(128, 512), dtype=float32, numpy=\n",
      "array([[ 6.4731069e-07,  9.9710519e-08, -2.4459570e-07, ...,\n",
      "         5.6482996e-08,  9.8116907e-08,  1.7033949e-07],\n",
      "       [ 2.1511531e-07, -1.1593862e-07,  1.2751617e-07, ...,\n",
      "        -6.1429006e-08,  1.5971253e-07,  5.0245781e-08],\n",
      "       [ 7.3995324e-08,  4.6819949e-08, -7.5681427e-08, ...,\n",
      "        -3.0050870e-08,  5.5925277e-08, -5.5947211e-08],\n",
      "       ...,\n",
      "       [ 4.3713388e-08,  5.6668593e-08, -9.6797450e-08, ...,\n",
      "         2.4343009e-07,  1.1865957e-08, -8.1981078e-08],\n",
      "       [-6.5188857e-08, -3.6488153e-08,  6.4339183e-08, ...,\n",
      "        -1.2068264e-07, -2.6412297e-07, -6.6197018e-08],\n",
      "       [ 1.7575522e-07, -2.3904906e-08, -1.8175569e-08, ...,\n",
      "        -8.3179856e-08, -8.5625373e-09,  1.5788261e-07]], dtype=float32)>, <tf.Tensor: shape=(512,), dtype=float32, numpy=\n",
      "array([-8.47347837e-06, -1.80136794e-07,  4.94456890e-06, -1.14251725e-05,\n",
      "       -6.42630766e-06, -8.41946348e-06,  2.52288919e-05,  3.93248274e-06,\n",
      "       -1.06823609e-06, -2.68660224e-05, -1.40654083e-05, -6.22390007e-06,\n",
      "       -2.85251790e-05,  5.18183406e-05,  1.46454222e-05,  5.17339322e-05,\n",
      "       -6.91221612e-06,  2.11098522e-05, -3.45378867e-05, -5.41764057e-05,\n",
      "        1.50486867e-05, -1.25951619e-05, -3.48126105e-06,  2.56037838e-05,\n",
      "        3.17726444e-05, -1.48551408e-07, -6.07990842e-05,  2.97722290e-05,\n",
      "       -4.39876239e-05,  6.59708894e-06,  2.30685237e-05, -1.83772427e-05,\n",
      "        8.73741010e-06, -1.81051546e-05, -6.25645771e-06, -1.31031265e-06,\n",
      "        6.99014781e-05,  4.93511216e-05, -3.80636607e-06, -1.57331669e-06,\n",
      "       -2.39337423e-05,  3.07585969e-06,  3.69205118e-05, -4.17743649e-06,\n",
      "       -8.17291293e-05,  5.39061148e-06,  8.33757986e-06,  6.93755792e-05,\n",
      "       -5.63733283e-06, -1.78841983e-05, -5.28868550e-05,  6.15145473e-06,\n",
      "        7.78438880e-06,  4.78086404e-05,  8.31541547e-05, -1.25611514e-05,\n",
      "       -6.01677857e-06,  3.99650016e-05, -5.88948315e-05, -3.03007937e-06,\n",
      "        9.33284391e-05,  4.00483041e-05, -4.83219701e-05, -2.48174438e-05,\n",
      "       -2.46505406e-05, -4.50425723e-05, -6.65272728e-06,  2.19039284e-05,\n",
      "        3.05336725e-05, -4.75816123e-05,  1.97493409e-06, -4.54283545e-05,\n",
      "       -2.35260131e-06, -3.30728562e-06, -8.09290432e-05, -5.03334049e-05,\n",
      "        9.96254857e-06,  6.54140331e-06, -4.83425765e-07,  3.14908793e-05,\n",
      "       -2.96694498e-06, -3.00324027e-05, -2.85277310e-05, -1.24070539e-06,\n",
      "       -2.43218601e-05, -3.14645740e-06,  1.08159948e-05, -3.26215195e-05,\n",
      "       -1.65467427e-05,  3.49567404e-06, -1.69561863e-05,  6.74870307e-07,\n",
      "        8.85714144e-07, -2.06925033e-05, -4.69975712e-05,  4.47536604e-06,\n",
      "        4.44982652e-05, -9.08919264e-06,  5.92546457e-05, -4.35859365e-05,\n",
      "       -1.09179731e-04, -2.07213816e-06, -1.04388155e-05,  7.58532769e-05,\n",
      "        8.13374663e-06, -3.98451193e-05, -3.66377280e-05, -1.23328282e-05,\n",
      "       -3.08728559e-05,  5.22919872e-05,  2.19604153e-05,  8.39434142e-06,\n",
      "       -8.48398486e-07, -2.23599782e-05,  1.70438852e-07,  8.50951892e-06,\n",
      "        3.16307705e-06, -5.28160745e-05,  4.98654008e-05,  1.31376655e-05,\n",
      "        6.31222065e-06, -2.96925609e-05,  1.15574076e-05, -4.32812922e-05,\n",
      "        1.13456408e-05, -2.86011709e-06,  1.43984371e-05, -9.29270391e-06,\n",
      "        1.51595204e-05, -1.13845872e-05,  2.50511002e-05, -1.04135061e-05,\n",
      "       -1.25538554e-05, -3.03987235e-05,  6.38175479e-05, -8.50818651e-06,\n",
      "        2.13352505e-05, -4.78526999e-05, -3.22613632e-05,  1.33473486e-05,\n",
      "       -2.93313606e-05,  6.49594876e-05,  6.06645017e-06,  4.73123728e-05,\n",
      "        2.78679727e-06,  3.82304715e-05, -5.41225709e-05, -5.83232977e-05,\n",
      "        1.91445579e-05, -1.79388262e-05, -1.43434190e-05,  3.63888830e-05,\n",
      "        3.76215248e-05,  2.25679032e-05, -7.08251027e-05,  2.74963495e-05,\n",
      "       -6.73594550e-05, -1.17406853e-05, -1.26404939e-05, -2.62445665e-05,\n",
      "        1.94703025e-05, -1.15304956e-05, -1.93955366e-05,  8.92523894e-06,\n",
      "        7.87379831e-05,  6.10883799e-05, -1.91304389e-05,  1.10506098e-05,\n",
      "       -2.89548407e-05,  7.19937498e-06,  5.33779748e-05,  1.76759022e-05,\n",
      "       -1.25480583e-04,  4.21109144e-05,  3.00033389e-05,  8.08062105e-05,\n",
      "       -8.04308547e-06, -3.71674396e-05, -7.24639685e-05,  4.77577851e-06,\n",
      "        4.50046136e-05,  7.58983006e-05,  1.34732662e-04,  4.85582859e-06,\n",
      "       -1.49657371e-05,  5.60929584e-05, -7.96313907e-05, -1.57103932e-05,\n",
      "        1.61440839e-04,  3.18201419e-05, -3.29285103e-05, -4.23421916e-05,\n",
      "       -7.27411862e-06, -5.28421224e-05, -3.36449993e-05,  3.55938828e-05,\n",
      "        3.35608966e-05, -4.91284045e-05, -1.96462224e-05, -3.45413573e-05,\n",
      "       -9.30535862e-07,  5.28961391e-06, -1.48533160e-04, -6.39000791e-05,\n",
      "        9.46619275e-06,  1.62829438e-05,  5.79751895e-06,  5.17577137e-05,\n",
      "        8.89564944e-06, -9.30246824e-06, -8.66465416e-06,  2.09438440e-05,\n",
      "       -4.34249414e-05,  6.06640606e-06, -1.63869754e-05, -3.65051710e-05,\n",
      "        5.51019002e-06, -6.91416608e-06, -1.75534788e-05,  1.68355364e-05,\n",
      "       -1.58466792e-05, -2.35218413e-05, -3.44444852e-05,  1.22214660e-05,\n",
      "        5.85584130e-05, -1.65040474e-05,  6.09827621e-05, -4.85495038e-05,\n",
      "       -1.49456813e-04,  3.08181152e-05, -1.16777701e-05,  1.14453636e-04,\n",
      "        1.70799722e-05, -1.50502538e-05, -4.48859500e-05, -1.24575527e-05,\n",
      "       -2.76463088e-05,  7.06919163e-05,  3.45066801e-05,  1.34218672e-05,\n",
      "        3.47555533e-06, -3.12193515e-05, -1.60355671e-06,  3.42332751e-05,\n",
      "        1.42928557e-05, -7.02149118e-05,  4.98699665e-05,  1.46220391e-05,\n",
      "        7.61961746e-06, -7.28922314e-05, -3.74579076e-06, -4.64226287e-05,\n",
      "       -9.10830477e-06, -2.27921082e-05, -2.25429449e-06, -3.10195101e-05,\n",
      "        4.35021296e-02, -7.59561406e-03, -1.54573824e-02,  3.38952169e-02,\n",
      "       -4.40768003e-02, -3.14903334e-02, -3.05778533e-02,  2.23372038e-03,\n",
      "       -7.53999688e-04, -2.32463647e-02, -3.23127992e-02, -6.79095974e-03,\n",
      "       -4.86550108e-02, -2.95185726e-02, -2.85538714e-02,  5.41267693e-02,\n",
      "        3.12444521e-04,  1.08967768e-02,  5.82603458e-03,  3.61032635e-02,\n",
      "       -2.85209008e-02,  2.04863586e-02,  3.80723476e-02, -3.27498615e-02,\n",
      "        3.80455554e-02, -1.85108967e-02,  1.44711677e-02, -2.75944881e-02,\n",
      "        4.68407720e-02,  2.17432231e-02,  1.32141644e-02, -3.13735344e-02,\n",
      "       -1.92254446e-02, -6.41868589e-03,  6.01915934e-04, -1.12501569e-02,\n",
      "       -4.26909402e-02, -1.82309235e-03,  2.47651935e-02, -3.22828516e-02,\n",
      "       -2.73184851e-02, -2.63519511e-02, -2.40584500e-02, -3.31601291e-03,\n",
      "        4.61313650e-02, -4.53861384e-03,  1.36343054e-02,  2.12206282e-02,\n",
      "       -5.20969136e-03,  1.26927290e-02, -4.81854752e-02,  9.36236139e-03,\n",
      "       -1.82184037e-02,  5.40603511e-02, -4.35738228e-02,  2.46408805e-02,\n",
      "        5.45808114e-03,  1.57757234e-02, -3.70491557e-02, -8.64666793e-03,\n",
      "        5.50197065e-02,  4.01229784e-03,  2.44357362e-02,  1.70713523e-03,\n",
      "       -4.09735553e-03, -1.79970656e-02, -4.36523445e-02,  6.74161837e-02,\n",
      "       -2.69995332e-02,  5.20286150e-04, -5.93942543e-03,  5.11781592e-03,\n",
      "        6.28198590e-03,  1.71299838e-03, -5.21798283e-02,  2.88102310e-02,\n",
      "       -8.92963074e-03, -9.22050700e-03, -3.01378407e-02,  2.67097503e-02,\n",
      "       -1.14235682e-02, -2.93490780e-03,  2.99168825e-02, -2.08294205e-02,\n",
      "        4.67643626e-02,  1.71709619e-02, -2.13542357e-02, -1.99651923e-02,\n",
      "       -3.52503471e-02, -2.20094658e-02, -1.56564079e-02, -3.85151885e-04,\n",
      "       -1.57348160e-03, -3.05568129e-02, -2.79212147e-02, -8.83588381e-03,\n",
      "       -6.11425564e-03, -3.81254824e-04,  5.76438457e-02, -2.98618376e-02,\n",
      "       -6.00217730e-02, -1.48652149e-02, -1.95201952e-03,  4.14893366e-02,\n",
      "        1.25392433e-02,  1.06333159e-02, -1.34510919e-02, -6.83129579e-02,\n",
      "       -3.36953625e-03,  2.57328022e-02, -1.12238768e-02,  5.65285981e-03,\n",
      "       -1.35515817e-02,  1.91299785e-02,  3.61446813e-02, -1.93920173e-02,\n",
      "        1.46784568e-02, -3.79553139e-02, -4.54367436e-02,  3.63341421e-02,\n",
      "       -8.29791464e-03, -1.76592246e-02, -1.39751658e-03, -2.84263641e-02,\n",
      "       -8.10144283e-03,  1.37017574e-02, -1.64891370e-02,  2.86654439e-02,\n",
      "        6.71831685e-07,  2.48484912e-06,  1.16061983e-05, -1.34177981e-05,\n",
      "       -9.53592189e-06, -1.06499447e-05,  2.40278714e-05,  2.48962988e-06,\n",
      "       -1.03407547e-06, -3.80077108e-05, -2.13278945e-05, -1.29473547e-05,\n",
      "       -2.75218335e-05,  5.78162690e-05,  2.82730507e-05,  4.96252906e-05,\n",
      "       -9.88914326e-06,  1.62210090e-05, -4.44739890e-05, -6.49867216e-05,\n",
      "        1.24224089e-05, -1.63659624e-05, -7.09692722e-06,  2.65820563e-05,\n",
      "        3.19600113e-05, -5.07092409e-06, -5.79905027e-05,  2.32461989e-05,\n",
      "       -5.19248133e-05,  5.44521481e-06,  1.94906188e-05, -1.95313096e-05,\n",
      "        1.70952189e-05, -1.75615860e-05, -3.41638224e-06, -4.12316331e-06,\n",
      "        8.28375487e-05,  4.64703262e-05, -1.02647209e-06, -1.32222303e-05,\n",
      "       -3.46359047e-05,  7.58077658e-06,  4.28458043e-05,  6.42939995e-06,\n",
      "       -9.49270761e-05,  1.74131292e-05,  2.03997861e-05,  7.41155527e-05,\n",
      "       -1.28825723e-05, -3.42997191e-05, -4.93782063e-05,  8.55446160e-07,\n",
      "        1.01332507e-05,  6.46208427e-05,  9.50191825e-05, -8.15425483e-06,\n",
      "       -1.44380783e-06,  5.43251008e-05, -6.81621314e-05,  2.42938131e-06,\n",
      "        1.01358884e-04,  4.18751479e-05, -5.78893778e-05, -4.04921084e-05,\n",
      "       -2.47900789e-05, -5.67454699e-05, -1.50012274e-05,  2.47711887e-05,\n",
      "        2.72417019e-05, -4.91778046e-05,  7.00060809e-06, -4.57991991e-05,\n",
      "        3.94064227e-06,  1.38729774e-06, -9.57113734e-05, -5.32022350e-05,\n",
      "        8.41334804e-06,  9.08004859e-06, -3.93999198e-06,  3.70920425e-05,\n",
      "       -5.64006450e-06, -2.92285677e-05, -1.97521786e-05,  8.53353049e-06,\n",
      "       -2.46046802e-05, -1.03098009e-05,  8.91584750e-06, -3.33536846e-05,\n",
      "       -1.05860854e-05, -1.59460615e-06, -2.38932844e-05,  4.44000489e-06,\n",
      "       -3.10290488e-07, -2.52994359e-05, -4.82671094e-05,  3.47121522e-06,\n",
      "        4.71420863e-05, -9.69742177e-06,  6.44251268e-05, -5.01987670e-05,\n",
      "       -1.19526674e-04, -1.44676123e-05, -1.33144076e-05,  8.79023719e-05,\n",
      "        1.58316889e-05, -2.84680918e-05, -3.20978579e-05, -1.78768423e-05,\n",
      "       -3.72329669e-05,  5.90675991e-05,  1.69149644e-05,  1.41530172e-05,\n",
      "       -5.88994271e-06, -2.58914624e-05, -3.29468367e-06,  1.12271719e-05,\n",
      "        5.51381436e-06, -5.91080134e-05,  4.69992810e-05,  1.72447326e-05,\n",
      "        1.94158929e-07, -3.64100270e-05,  1.20328205e-05, -3.54150761e-05,\n",
      "        1.64097764e-05, -7.38267181e-06,  1.99732458e-05, -7.49231003e-06],\n",
      "      dtype=float32)>, <tf.Tensor: shape=(128, 10000), dtype=float32, numpy=\n",
      "array([[-6.9959741e-04, -1.5127634e-03, -2.3918783e-03, ...,\n",
      "         1.6155971e-06,  1.6142457e-06,  1.6166209e-06],\n",
      "       [ 6.0561579e-04,  1.1212375e-03,  1.1215196e-03, ...,\n",
      "        -2.6772632e-06, -2.6782420e-06, -2.6785726e-06],\n",
      "       [ 1.4500655e-03,  1.1753363e-03,  1.4763322e-03, ...,\n",
      "        -3.8332978e-06, -3.8354656e-06, -3.8351218e-06],\n",
      "       ...,\n",
      "       [-1.2447924e-04, -4.9439678e-04,  1.4212914e-04, ...,\n",
      "         7.8244739e-07,  7.8075664e-07,  7.8272035e-07],\n",
      "       [ 1.1689273e-04,  1.3491176e-03,  1.1581404e-03, ...,\n",
      "        -4.5516890e-07, -4.5164310e-07, -4.5484146e-07],\n",
      "       [ 7.9066009e-04,  1.7780268e-03,  1.1057069e-03, ...,\n",
      "        -2.0234279e-06, -2.0218372e-06, -2.0255875e-06]], dtype=float32)>, <tf.Tensor: shape=(10000,), dtype=float32, numpy=\n",
      "array([-0.7979981 , -1.0313313 , -1.0313318 , ...,  0.00199954,\n",
      "        0.00199987,  0.00200067], dtype=float32)>]\n"
     ]
    }
   ],
   "source": [
    "print(grad_t_list)"
   ]
  },
  {
   "cell_type": "markdown",
   "metadata": {},
   "source": [
    "\n",
    "\n",
    "\n",
    "now, we have a list of tensors, t-list. We can use it to find clipped tensors. <b>clip_by_global_norm</b> clips values of multiple tensors by the ratio of the sum of their norms.\n",
    "\n",
    "<b>clip_by_global_norm</b> get <i>t-list</i> as input and returns 2 things:\n",
    "<ul>\n",
    "    <li>a list of clipped tensors, so called <i>list_clipped</i></li> \n",
    "    <li>the global norm (global_norm) of all tensors in t_list</li> \n",
    "</ul>\n"
   ]
  },
  {
   "cell_type": "code",
   "execution_count": 53,
   "metadata": {
    "tags": []
   },
   "outputs": [
    {
     "data": {
      "text/plain": [
       "[<tensorflow.python.framework.indexed_slices.IndexedSlices at 0x7f4904840c50>,\n",
       " <tf.Tensor: shape=(200, 1024), dtype=float32, numpy=\n",
       " array([[-9.0600984e-08,  3.9008040e-07, -2.8831522e-07, ...,\n",
       "          3.0742069e-07, -2.5637053e-07,  1.3692697e-07],\n",
       "        [ 4.2513381e-07,  3.8906930e-07, -5.3145777e-07, ...,\n",
       "          4.3551088e-07, -3.9170396e-07, -6.6218439e-07],\n",
       "        [ 3.2390892e-07, -2.1164067e-07, -1.8592081e-07, ...,\n",
       "         -6.8776082e-08,  5.5398282e-09, -1.6193839e-07],\n",
       "        ...,\n",
       "        [ 1.0191009e-07,  6.7032124e-07,  3.5991974e-07, ...,\n",
       "          1.7675072e-07, -2.8598132e-07,  9.5736789e-07],\n",
       "        [-2.5429213e-08,  1.3126559e-06,  7.6717413e-08, ...,\n",
       "         -1.3769979e-07,  1.5923843e-07, -1.3331187e-07],\n",
       "        [-2.5823576e-07,  5.3418432e-07, -7.0885449e-07, ...,\n",
       "          1.0072917e-07, -2.0666882e-07,  2.1755420e-07]], dtype=float32)>,\n",
       " <tf.Tensor: shape=(256, 1024), dtype=float32, numpy=\n",
       " array([[-1.19094231e-07, -1.06825766e-07, -3.77749991e-08, ...,\n",
       "         -7.89900554e-08, -1.09408973e-07,  7.56288046e-08],\n",
       "        [ 2.99412619e-08, -1.35992337e-07,  3.89415362e-08, ...,\n",
       "         -7.83353329e-08, -1.07268640e-07, -2.25168179e-07],\n",
       "        [-1.50271688e-08, -2.33175967e-09,  8.50175752e-08, ...,\n",
       "         -6.20995024e-08, -1.39778740e-08,  3.48508173e-08],\n",
       "        ...,\n",
       "        [ 5.50973915e-08, -1.54501464e-07,  3.22043320e-07, ...,\n",
       "          1.09602183e-07, -3.13502788e-08,  9.43741725e-08],\n",
       "        [-5.41189813e-08,  1.30480259e-07,  6.69505482e-08, ...,\n",
       "         -3.67728887e-08,  3.95249486e-07,  1.62932032e-08],\n",
       "        [ 2.39788474e-08,  1.82029787e-08, -1.35064866e-07, ...,\n",
       "         -4.82353002e-08,  3.50435059e-08, -5.17615717e-07]], dtype=float32)>,\n",
       " <tf.Tensor: shape=(1024,), dtype=float32, numpy=\n",
       " array([-1.6769742e-05,  3.4986417e-05, -3.3634438e-05, ...,\n",
       "        -6.6027369e-06,  5.1861543e-06,  2.6845055e-05], dtype=float32)>,\n",
       " <tf.Tensor: shape=(256, 512), dtype=float32, numpy=\n",
       " array([[-2.38594879e-07,  1.83811188e-08,  9.37174320e-08, ...,\n",
       "          3.44525048e-08,  5.68903928e-08, -1.64139578e-07],\n",
       "        [-3.06205379e-07, -1.18971668e-08,  2.23905630e-07, ...,\n",
       "         -5.11977163e-08, -3.85901330e-07, -1.47493267e-07],\n",
       "        [-1.90761241e-07,  9.58649267e-08,  9.22244041e-08, ...,\n",
       "          1.72772857e-07, -1.04750086e-07,  2.26509059e-07],\n",
       "        ...,\n",
       "        [-1.09380082e-07, -4.70826578e-08,  3.08258024e-07, ...,\n",
       "         -1.41451267e-07, -1.53023805e-07,  8.59297771e-08],\n",
       "        [ 2.07600422e-07, -4.77464503e-08, -6.77915608e-08, ...,\n",
       "         -5.07134601e-09, -1.75055106e-07,  2.39533051e-07],\n",
       "        [ 1.55343599e-07, -1.10480469e-08,  2.65776379e-08, ...,\n",
       "         -1.47887292e-07, -2.17927806e-07, -7.39776382e-08]], dtype=float32)>,\n",
       " <tf.Tensor: shape=(128, 512), dtype=float32, numpy=\n",
       " array([[ 6.4731069e-07,  9.9710519e-08, -2.4459570e-07, ...,\n",
       "          5.6482996e-08,  9.8116907e-08,  1.7033949e-07],\n",
       "        [ 2.1511531e-07, -1.1593862e-07,  1.2751617e-07, ...,\n",
       "         -6.1429006e-08,  1.5971253e-07,  5.0245781e-08],\n",
       "        [ 7.3995324e-08,  4.6819949e-08, -7.5681427e-08, ...,\n",
       "         -3.0050870e-08,  5.5925277e-08, -5.5947211e-08],\n",
       "        ...,\n",
       "        [ 4.3713388e-08,  5.6668593e-08, -9.6797450e-08, ...,\n",
       "          2.4343009e-07,  1.1865957e-08, -8.1981078e-08],\n",
       "        [-6.5188857e-08, -3.6488153e-08,  6.4339183e-08, ...,\n",
       "         -1.2068264e-07, -2.6412297e-07, -6.6197018e-08],\n",
       "        [ 1.7575522e-07, -2.3904906e-08, -1.8175569e-08, ...,\n",
       "         -8.3179856e-08, -8.5625373e-09,  1.5788261e-07]], dtype=float32)>,\n",
       " <tf.Tensor: shape=(512,), dtype=float32, numpy=\n",
       " array([-8.47347837e-06, -1.80136794e-07,  4.94456890e-06, -1.14251725e-05,\n",
       "        -6.42630766e-06, -8.41946348e-06,  2.52288919e-05,  3.93248274e-06,\n",
       "        -1.06823609e-06, -2.68660224e-05, -1.40654083e-05, -6.22390007e-06,\n",
       "        -2.85251790e-05,  5.18183406e-05,  1.46454222e-05,  5.17339322e-05,\n",
       "        -6.91221612e-06,  2.11098522e-05, -3.45378867e-05, -5.41764057e-05,\n",
       "         1.50486867e-05, -1.25951619e-05, -3.48126105e-06,  2.56037838e-05,\n",
       "         3.17726444e-05, -1.48551408e-07, -6.07990842e-05,  2.97722290e-05,\n",
       "        -4.39876239e-05,  6.59708894e-06,  2.30685237e-05, -1.83772427e-05,\n",
       "         8.73741010e-06, -1.81051546e-05, -6.25645771e-06, -1.31031265e-06,\n",
       "         6.99014781e-05,  4.93511216e-05, -3.80636607e-06, -1.57331669e-06,\n",
       "        -2.39337423e-05,  3.07585969e-06,  3.69205118e-05, -4.17743649e-06,\n",
       "        -8.17291293e-05,  5.39061148e-06,  8.33757986e-06,  6.93755792e-05,\n",
       "        -5.63733283e-06, -1.78841983e-05, -5.28868550e-05,  6.15145473e-06,\n",
       "         7.78438880e-06,  4.78086404e-05,  8.31541547e-05, -1.25611514e-05,\n",
       "        -6.01677857e-06,  3.99650016e-05, -5.88948315e-05, -3.03007937e-06,\n",
       "         9.33284391e-05,  4.00483041e-05, -4.83219701e-05, -2.48174438e-05,\n",
       "        -2.46505406e-05, -4.50425723e-05, -6.65272728e-06,  2.19039284e-05,\n",
       "         3.05336725e-05, -4.75816123e-05,  1.97493409e-06, -4.54283545e-05,\n",
       "        -2.35260131e-06, -3.30728562e-06, -8.09290432e-05, -5.03334049e-05,\n",
       "         9.96254857e-06,  6.54140331e-06, -4.83425765e-07,  3.14908793e-05,\n",
       "        -2.96694498e-06, -3.00324027e-05, -2.85277310e-05, -1.24070539e-06,\n",
       "        -2.43218601e-05, -3.14645740e-06,  1.08159948e-05, -3.26215195e-05,\n",
       "        -1.65467427e-05,  3.49567404e-06, -1.69561863e-05,  6.74870307e-07,\n",
       "         8.85714144e-07, -2.06925033e-05, -4.69975712e-05,  4.47536604e-06,\n",
       "         4.44982652e-05, -9.08919264e-06,  5.92546457e-05, -4.35859365e-05,\n",
       "        -1.09179731e-04, -2.07213816e-06, -1.04388155e-05,  7.58532769e-05,\n",
       "         8.13374663e-06, -3.98451193e-05, -3.66377280e-05, -1.23328282e-05,\n",
       "        -3.08728559e-05,  5.22919872e-05,  2.19604153e-05,  8.39434142e-06,\n",
       "        -8.48398486e-07, -2.23599782e-05,  1.70438852e-07,  8.50951892e-06,\n",
       "         3.16307705e-06, -5.28160745e-05,  4.98654008e-05,  1.31376655e-05,\n",
       "         6.31222065e-06, -2.96925609e-05,  1.15574076e-05, -4.32812922e-05,\n",
       "         1.13456408e-05, -2.86011709e-06,  1.43984371e-05, -9.29270391e-06,\n",
       "         1.51595204e-05, -1.13845872e-05,  2.50511002e-05, -1.04135061e-05,\n",
       "        -1.25538554e-05, -3.03987235e-05,  6.38175479e-05, -8.50818651e-06,\n",
       "         2.13352505e-05, -4.78526999e-05, -3.22613632e-05,  1.33473486e-05,\n",
       "        -2.93313606e-05,  6.49594876e-05,  6.06645017e-06,  4.73123728e-05,\n",
       "         2.78679727e-06,  3.82304715e-05, -5.41225709e-05, -5.83232977e-05,\n",
       "         1.91445579e-05, -1.79388262e-05, -1.43434190e-05,  3.63888830e-05,\n",
       "         3.76215248e-05,  2.25679032e-05, -7.08251027e-05,  2.74963495e-05,\n",
       "        -6.73594550e-05, -1.17406853e-05, -1.26404939e-05, -2.62445665e-05,\n",
       "         1.94703025e-05, -1.15304956e-05, -1.93955366e-05,  8.92523894e-06,\n",
       "         7.87379831e-05,  6.10883799e-05, -1.91304389e-05,  1.10506098e-05,\n",
       "        -2.89548407e-05,  7.19937498e-06,  5.33779748e-05,  1.76759022e-05,\n",
       "        -1.25480583e-04,  4.21109144e-05,  3.00033389e-05,  8.08062105e-05,\n",
       "        -8.04308547e-06, -3.71674396e-05, -7.24639685e-05,  4.77577851e-06,\n",
       "         4.50046136e-05,  7.58983006e-05,  1.34732662e-04,  4.85582859e-06,\n",
       "        -1.49657371e-05,  5.60929584e-05, -7.96313907e-05, -1.57103932e-05,\n",
       "         1.61440839e-04,  3.18201419e-05, -3.29285103e-05, -4.23421916e-05,\n",
       "        -7.27411862e-06, -5.28421224e-05, -3.36449993e-05,  3.55938828e-05,\n",
       "         3.35608966e-05, -4.91284045e-05, -1.96462224e-05, -3.45413573e-05,\n",
       "        -9.30535862e-07,  5.28961391e-06, -1.48533160e-04, -6.39000791e-05,\n",
       "         9.46619275e-06,  1.62829438e-05,  5.79751895e-06,  5.17577137e-05,\n",
       "         8.89564944e-06, -9.30246824e-06, -8.66465416e-06,  2.09438440e-05,\n",
       "        -4.34249414e-05,  6.06640606e-06, -1.63869754e-05, -3.65051710e-05,\n",
       "         5.51019002e-06, -6.91416608e-06, -1.75534788e-05,  1.68355364e-05,\n",
       "        -1.58466792e-05, -2.35218413e-05, -3.44444852e-05,  1.22214660e-05,\n",
       "         5.85584130e-05, -1.65040474e-05,  6.09827621e-05, -4.85495038e-05,\n",
       "        -1.49456813e-04,  3.08181152e-05, -1.16777701e-05,  1.14453636e-04,\n",
       "         1.70799722e-05, -1.50502538e-05, -4.48859500e-05, -1.24575527e-05,\n",
       "        -2.76463088e-05,  7.06919163e-05,  3.45066801e-05,  1.34218672e-05,\n",
       "         3.47555533e-06, -3.12193515e-05, -1.60355671e-06,  3.42332751e-05,\n",
       "         1.42928557e-05, -7.02149118e-05,  4.98699665e-05,  1.46220391e-05,\n",
       "         7.61961746e-06, -7.28922314e-05, -3.74579076e-06, -4.64226287e-05,\n",
       "        -9.10830477e-06, -2.27921082e-05, -2.25429449e-06, -3.10195101e-05,\n",
       "         4.35021296e-02, -7.59561406e-03, -1.54573824e-02,  3.38952169e-02,\n",
       "        -4.40768003e-02, -3.14903334e-02, -3.05778533e-02,  2.23372038e-03,\n",
       "        -7.53999688e-04, -2.32463647e-02, -3.23127992e-02, -6.79095974e-03,\n",
       "        -4.86550108e-02, -2.95185726e-02, -2.85538714e-02,  5.41267693e-02,\n",
       "         3.12444521e-04,  1.08967768e-02,  5.82603458e-03,  3.61032635e-02,\n",
       "        -2.85209008e-02,  2.04863586e-02,  3.80723476e-02, -3.27498615e-02,\n",
       "         3.80455554e-02, -1.85108967e-02,  1.44711677e-02, -2.75944881e-02,\n",
       "         4.68407720e-02,  2.17432231e-02,  1.32141644e-02, -3.13735344e-02,\n",
       "        -1.92254446e-02, -6.41868589e-03,  6.01915934e-04, -1.12501569e-02,\n",
       "        -4.26909402e-02, -1.82309235e-03,  2.47651935e-02, -3.22828516e-02,\n",
       "        -2.73184851e-02, -2.63519511e-02, -2.40584500e-02, -3.31601291e-03,\n",
       "         4.61313650e-02, -4.53861384e-03,  1.36343054e-02,  2.12206282e-02,\n",
       "        -5.20969136e-03,  1.26927290e-02, -4.81854752e-02,  9.36236139e-03,\n",
       "        -1.82184037e-02,  5.40603511e-02, -4.35738228e-02,  2.46408805e-02,\n",
       "         5.45808114e-03,  1.57757234e-02, -3.70491557e-02, -8.64666793e-03,\n",
       "         5.50197065e-02,  4.01229784e-03,  2.44357362e-02,  1.70713523e-03,\n",
       "        -4.09735553e-03, -1.79970656e-02, -4.36523445e-02,  6.74161837e-02,\n",
       "        -2.69995332e-02,  5.20286150e-04, -5.93942543e-03,  5.11781592e-03,\n",
       "         6.28198590e-03,  1.71299838e-03, -5.21798283e-02,  2.88102310e-02,\n",
       "        -8.92963074e-03, -9.22050700e-03, -3.01378407e-02,  2.67097503e-02,\n",
       "        -1.14235682e-02, -2.93490780e-03,  2.99168825e-02, -2.08294205e-02,\n",
       "         4.67643626e-02,  1.71709619e-02, -2.13542357e-02, -1.99651923e-02,\n",
       "        -3.52503471e-02, -2.20094658e-02, -1.56564079e-02, -3.85151885e-04,\n",
       "        -1.57348160e-03, -3.05568129e-02, -2.79212147e-02, -8.83588381e-03,\n",
       "        -6.11425564e-03, -3.81254824e-04,  5.76438457e-02, -2.98618376e-02,\n",
       "        -6.00217730e-02, -1.48652149e-02, -1.95201952e-03,  4.14893366e-02,\n",
       "         1.25392433e-02,  1.06333159e-02, -1.34510919e-02, -6.83129579e-02,\n",
       "        -3.36953625e-03,  2.57328022e-02, -1.12238768e-02,  5.65285981e-03,\n",
       "        -1.35515817e-02,  1.91299785e-02,  3.61446813e-02, -1.93920173e-02,\n",
       "         1.46784568e-02, -3.79553139e-02, -4.54367436e-02,  3.63341421e-02,\n",
       "        -8.29791464e-03, -1.76592246e-02, -1.39751658e-03, -2.84263641e-02,\n",
       "        -8.10144283e-03,  1.37017574e-02, -1.64891370e-02,  2.86654439e-02,\n",
       "         6.71831685e-07,  2.48484912e-06,  1.16061983e-05, -1.34177981e-05,\n",
       "        -9.53592189e-06, -1.06499447e-05,  2.40278714e-05,  2.48962988e-06,\n",
       "        -1.03407547e-06, -3.80077108e-05, -2.13278945e-05, -1.29473547e-05,\n",
       "        -2.75218335e-05,  5.78162690e-05,  2.82730507e-05,  4.96252906e-05,\n",
       "        -9.88914326e-06,  1.62210090e-05, -4.44739890e-05, -6.49867216e-05,\n",
       "         1.24224089e-05, -1.63659624e-05, -7.09692722e-06,  2.65820563e-05,\n",
       "         3.19600113e-05, -5.07092409e-06, -5.79905027e-05,  2.32461989e-05,\n",
       "        -5.19248133e-05,  5.44521481e-06,  1.94906188e-05, -1.95313096e-05,\n",
       "         1.70952189e-05, -1.75615860e-05, -3.41638224e-06, -4.12316331e-06,\n",
       "         8.28375487e-05,  4.64703262e-05, -1.02647209e-06, -1.32222303e-05,\n",
       "        -3.46359047e-05,  7.58077658e-06,  4.28458043e-05,  6.42939995e-06,\n",
       "        -9.49270761e-05,  1.74131292e-05,  2.03997861e-05,  7.41155527e-05,\n",
       "        -1.28825723e-05, -3.42997191e-05, -4.93782063e-05,  8.55446160e-07,\n",
       "         1.01332507e-05,  6.46208427e-05,  9.50191825e-05, -8.15425483e-06,\n",
       "        -1.44380783e-06,  5.43251008e-05, -6.81621314e-05,  2.42938131e-06,\n",
       "         1.01358884e-04,  4.18751479e-05, -5.78893778e-05, -4.04921084e-05,\n",
       "        -2.47900789e-05, -5.67454699e-05, -1.50012274e-05,  2.47711887e-05,\n",
       "         2.72417019e-05, -4.91778046e-05,  7.00060809e-06, -4.57991991e-05,\n",
       "         3.94064227e-06,  1.38729774e-06, -9.57113734e-05, -5.32022350e-05,\n",
       "         8.41334804e-06,  9.08004859e-06, -3.93999198e-06,  3.70920425e-05,\n",
       "        -5.64006450e-06, -2.92285677e-05, -1.97521786e-05,  8.53353049e-06,\n",
       "        -2.46046802e-05, -1.03098009e-05,  8.91584750e-06, -3.33536846e-05,\n",
       "        -1.05860854e-05, -1.59460615e-06, -2.38932844e-05,  4.44000489e-06,\n",
       "        -3.10290488e-07, -2.52994359e-05, -4.82671094e-05,  3.47121522e-06,\n",
       "         4.71420863e-05, -9.69742177e-06,  6.44251268e-05, -5.01987670e-05,\n",
       "        -1.19526674e-04, -1.44676123e-05, -1.33144076e-05,  8.79023719e-05,\n",
       "         1.58316889e-05, -2.84680918e-05, -3.20978579e-05, -1.78768423e-05,\n",
       "        -3.72329669e-05,  5.90675991e-05,  1.69149644e-05,  1.41530172e-05,\n",
       "        -5.88994271e-06, -2.58914624e-05, -3.29468367e-06,  1.12271719e-05,\n",
       "         5.51381436e-06, -5.91080134e-05,  4.69992810e-05,  1.72447326e-05,\n",
       "         1.94158929e-07, -3.64100270e-05,  1.20328205e-05, -3.54150761e-05,\n",
       "         1.64097764e-05, -7.38267181e-06,  1.99732458e-05, -7.49231003e-06],\n",
       "       dtype=float32)>,\n",
       " <tf.Tensor: shape=(128, 10000), dtype=float32, numpy=\n",
       " array([[-6.9959741e-04, -1.5127634e-03, -2.3918783e-03, ...,\n",
       "          1.6155971e-06,  1.6142457e-06,  1.6166209e-06],\n",
       "        [ 6.0561579e-04,  1.1212375e-03,  1.1215196e-03, ...,\n",
       "         -2.6772632e-06, -2.6782420e-06, -2.6785726e-06],\n",
       "        [ 1.4500655e-03,  1.1753363e-03,  1.4763322e-03, ...,\n",
       "         -3.8332978e-06, -3.8354656e-06, -3.8351218e-06],\n",
       "        ...,\n",
       "        [-1.2447924e-04, -4.9439678e-04,  1.4212914e-04, ...,\n",
       "          7.8244739e-07,  7.8075664e-07,  7.8272035e-07],\n",
       "        [ 1.1689273e-04,  1.3491176e-03,  1.1581404e-03, ...,\n",
       "         -4.5516890e-07, -4.5164310e-07, -4.5484146e-07],\n",
       "        [ 7.9066009e-04,  1.7780268e-03,  1.1057069e-03, ...,\n",
       "         -2.0234279e-06, -2.0218372e-06, -2.0255875e-06]], dtype=float32)>,\n",
       " <tf.Tensor: shape=(10000,), dtype=float32, numpy=\n",
       " array([-0.7979981 , -1.0313313 , -1.0313318 , ...,  0.00199954,\n",
       "         0.00199987,  0.00200067], dtype=float32)>]"
      ]
     },
     "execution_count": 53,
     "metadata": {},
     "output_type": "execute_result"
    }
   ],
   "source": [
    "# Define the gradient clipping threshold\n",
    "grads, _ = tf.clip_by_global_norm(grad_t_list, max_grad_norm)\n",
    "grads"
   ]
  },
  {
   "cell_type": "markdown",
   "metadata": {},
   "source": [
    "<h4> 4.Apply the optimizer to the variables/gradients tuple. </h4>\n"
   ]
  },
  {
   "cell_type": "code",
   "execution_count": 54,
   "metadata": {
    "tags": []
   },
   "outputs": [],
   "source": [
    "# Create the training TensorFlow Operation through our optimizer\n",
    "train_op = optimizer.apply_gradients(zip(grads, tvars))"
   ]
  },
  {
   "cell_type": "markdown",
   "metadata": {},
   "source": [
    "<a id=\"ltsm\"></a>\n",
    "<h2>LSTM</h2>\n"
   ]
  },
  {
   "cell_type": "markdown",
   "metadata": {},
   "source": [
    "We learned how the model is build step by step. Noe, let's then create a Class that represents our model. This class needs a few things:\n",
    "<ul>\n",
    "    <li>We have to create the model in accordance with our defined hyperparameters</li>\n",
    "    <li>We have to create the LSTM cell structure and connect them with our RNN structure</li>\n",
    "    <li>We have to create the word embeddings and point them to the input data</li>\n",
    "    <li>We have to create the input structure for our RNN</li>\n",
    "    <li>We need to create a logistic structure to return the probability of our words</li>\n",
    "    <li>We need to create the loss and cost functions for our optimizer to work, and then create the optimizer</li>\n",
    "    <li>And finally, we need to create a training operation that can be run to actually train our model</li>\n",
    "</ul>\n"
   ]
  },
  {
   "cell_type": "code",
   "execution_count": 55,
   "metadata": {
    "tags": []
   },
   "outputs": [],
   "source": [
    "class PTBModel(object):\n",
    "\n",
    "\n",
    "    def __init__(self):\n",
    "        ######################################\n",
    "        # Setting parameters for ease of use #\n",
    "        ######################################\n",
    "        self.batch_size = batch_size\n",
    "        self.num_steps = num_steps\n",
    "        self.hidden_size_l1 = hidden_size_l1\n",
    "        self.hidden_size_l2 = hidden_size_l2\n",
    "        self.vocab_size = vocab_size\n",
    "        self.embeding_vector_size = embeding_vector_size\n",
    "        # Create a variable for the learning rate\n",
    "        self._lr = 1.0\n",
    "        \n",
    "        ###############################################################################\n",
    "        # Initializing the model using keras Sequential API  #\n",
    "        ###############################################################################\n",
    "        \n",
    "        self._model = tf.keras.models.Sequential()\n",
    "        \n",
    "        ####################################################################\n",
    "        # Creating the word embeddings layer and adding it to the sequence #\n",
    "        ####################################################################\n",
    "        with tf.device(\"/cpu:0\"):\n",
    "            # Create the embeddings for our input data. Size is hidden size.\n",
    "            self._embedding_layer = tf.keras.layers.Embedding(self.vocab_size, self.embeding_vector_size,batch_input_shape=(self.batch_size, self.num_steps),trainable=True,name=\"embedding_vocab\")  #[10000x200]\n",
    "            self._model.add(self._embedding_layer)\n",
    "            \n",
    "\n",
    "        ##########################################################################\n",
    "        # Creating the LSTM cell structure and connect it with the RNN structure #\n",
    "        ##########################################################################\n",
    "        # Create the LSTM Cells. \n",
    "        # This creates only the structure for the LSTM and has to be associated with a RNN unit still.\n",
    "        # The argument  of LSTMCell is size of hidden layer, that is, the number of hidden units of the LSTM (inside A). \n",
    "        # LSTM cell processes one word at a time and computes probabilities of the possible continuations of the sentence.\n",
    "        lstm_cell_l1 = tf.keras.layers.LSTMCell(hidden_size_l1)\n",
    "        lstm_cell_l2 = tf.keras.layers.LSTMCell(hidden_size_l2)\n",
    "        \n",
    "\n",
    "        \n",
    "        # By taking in the LSTM cells as parameters, the StackedRNNCells function junctions the LSTM units to the RNN units.\n",
    "        # RNN cell composed sequentially of stacked simple cells.\n",
    "        stacked_lstm = tf.keras.layers.StackedRNNCells([lstm_cell_l1, lstm_cell_l2])\n",
    "\n",
    "\n",
    "        \n",
    "\n",
    "        ############################################\n",
    "        # Creating the input structure for our RNN #\n",
    "        ############################################\n",
    "        # Input structure is 20x[30x200]\n",
    "        # Considering each word is represended by a 200 dimentional vector, and we have 30 batchs, we create 30 word-vectors of size [30xx2000]\n",
    "        # The input structure is fed from the embeddings, which are filled in by the input data\n",
    "        # Feeding a batch of b sentences to a RNN:\n",
    "        # In step 1,  first word of each of the b sentences (in a batch) is input in parallel.  \n",
    "        # In step 2,  second word of each of the b sentences is input in parallel. \n",
    "        # The parallelism is only for efficiency.  \n",
    "        # Each sentence in a batch is handled in parallel, but the network sees one word of a sentence at a time and does the computations accordingly. \n",
    "        # All the computations involving the words of all sentences in a batch at a given time step are done in parallel. \n",
    "\n",
    "        ########################################################################################################\n",
    "        # Instantiating our RNN model and setting stateful to True to feed forward the state to the next layer #\n",
    "        ########################################################################################################\n",
    "        \n",
    "        self._RNNlayer  =  tf.keras.layers.RNN(stacked_lstm,[batch_size, num_steps],return_state=False,stateful=True,trainable=True)\n",
    "        \n",
    "        # Define the initial state, i.e., the model state for the very first data point\n",
    "        # It initialize the state of the LSTM memory. The memory state of the network is initialized with a vector of zeros and gets updated after reading each word.\n",
    "        self._initial_state = tf.Variable(tf.zeros([batch_size,embeding_vector_size]),trainable=False)\n",
    "        self._RNNlayer.inital_state = self._initial_state\n",
    "    \n",
    "        ############################################\n",
    "        # Adding RNN layer to keras sequential API #\n",
    "        ############################################        \n",
    "        self._model.add(self._RNNlayer)\n",
    "        \n",
    "        #self._model.add(tf.keras.layers.LSTM(hidden_size_l1,return_sequences=True,stateful=True))\n",
    "        #self._model.add(tf.keras.layers.LSTM(hidden_size_l2,return_sequences=True))\n",
    "        \n",
    "        \n",
    "        ####################################################################################################\n",
    "        # Instantiating a Dense layer that connects the output to the vocab_size  and adding layer to model#\n",
    "        ####################################################################################################\n",
    "        self._dense = tf.keras.layers.Dense(self.vocab_size)\n",
    "        self._model.add(self._dense)\n",
    " \n",
    "        \n",
    "        ####################################################################################################\n",
    "        # Adding softmax activation layer and deriving probability to each class and adding layer to model #\n",
    "        ####################################################################################################\n",
    "        self._activation = tf.keras.layers.Activation('softmax')\n",
    "        self._model.add(self._activation)\n",
    "\n",
    "        ##########################################################\n",
    "        # Instantiating the stochastic gradient decent optimizer #\n",
    "        ########################################################## \n",
    "        self._optimizer = tf.keras.optimizers.SGD(lr=self._lr, clipnorm=max_grad_norm)\n",
    "        \n",
    "        \n",
    "        ##############################################################################\n",
    "        # Compiling and summarizing the model stacked using the keras sequential API #\n",
    "        ##############################################################################\n",
    "        self._model.compile(loss=self.crossentropy, optimizer=self._optimizer)\n",
    "        self._model.summary()\n",
    "\n",
    "\n",
    "    def crossentropy(self,y_true, y_pred):\n",
    "        return tf.keras.losses.sparse_categorical_crossentropy(y_true, y_pred)\n",
    "\n",
    "    def train_batch(self,_input_data,_targets):\n",
    "        #################################################\n",
    "        # Creating the Training Operation for our Model #\n",
    "        #################################################\n",
    "        # Create a variable for the learning rate\n",
    "        self._lr = tf.Variable(0.0, trainable=False)\n",
    "        # Get all TensorFlow variables marked as \"trainable\" (i.e. all of them except _lr, which we just created)\n",
    "        tvars = self._model.trainable_variables\n",
    "        # Define the gradient clipping threshold\n",
    "        with tf.GradientTape() as tape:\n",
    "            # Forward pass.\n",
    "            output_words_prob = self._model(_input_data)\n",
    "            # Loss value for this batch.\n",
    "            loss  = self.crossentropy(_targets, output_words_prob)\n",
    "            # average across batch and reduce sum\n",
    "            cost = tf.reduce_sum(loss/ self.batch_size)\n",
    "        # Get gradients of loss wrt the trainable variables.\n",
    "        grad_t_list = tape.gradient(cost, tvars)\n",
    "        # Define the gradient clipping threshold\n",
    "        grads, _ = tf.clip_by_global_norm(grad_t_list, max_grad_norm)\n",
    "        # Create the training TensorFlow Operation through our optimizer\n",
    "        train_op = self._optimizer.apply_gradients(zip(grads, tvars))\n",
    "        return cost\n",
    "        \n",
    "    def test_batch(self,_input_data,_targets):\n",
    "        #################################################\n",
    "        # Creating the Testing Operation for our Model #\n",
    "        #################################################\n",
    "        output_words_prob = self._model(_input_data)\n",
    "        loss  = self.crossentropy(_targets, output_words_prob)\n",
    "        # average across batch and reduce sum\n",
    "        cost = tf.reduce_sum(loss/ self.batch_size)\n",
    "\n",
    "        return cost\n",
    "    @classmethod\n",
    "    def instance(cls) : \n",
    "        return PTBModel()"
   ]
  },
  {
   "cell_type": "markdown",
   "metadata": {},
   "source": [
    "With that, the actual structure of our Recurrent Neural Network with Long Short-Term Memory is finished. What remains for us to do is to actually create the methods to run through time -- that is, the <code>run_epoch</code> method to be run at each epoch and a <code>main</code> script which ties all of this together.\n",
    "\n",
    "What our <code>run_epoch</code> method should do is take our input data and feed it to the relevant operations. This will return at the very least the current result for the cost function.\n"
   ]
  },
  {
   "cell_type": "code",
   "execution_count": 56,
   "metadata": {
    "tags": []
   },
   "outputs": [],
   "source": [
    "\n",
    "########################################################################################################################\n",
    "# run_one_epoch takes as parameters  the model instance, the data to be fed, training or testing mode and verbose info #\n",
    "########################################################################################################################\n",
    "def run_one_epoch(m, data,is_training=True,verbose=False):\n",
    "\n",
    "    #Define the epoch size based on the length of the data, batch size and the number of steps\n",
    "    epoch_size = ((len(data) // m.batch_size) - 1) // m.num_steps\n",
    "    start_time = time.time()\n",
    "    costs = 0.\n",
    "    iters = 0\n",
    "    \n",
    "    m._model.reset_states()\n",
    "    \n",
    "    #For each step and data point\n",
    "    for step, (x, y) in enumerate(ptb_iterator(data, m.batch_size, m.num_steps)):\n",
    "        \n",
    "        #Evaluate and return cost, state by running cost, final_state and the function passed as parameter\n",
    "        #y = tf.keras.utils.to_categorical(y, num_classes=vocab_size)\n",
    "        if is_training : \n",
    "            loss=  m.train_batch(x, y)\n",
    "        else :\n",
    "            loss = m.test_batch(x, y)\n",
    "                                   \n",
    "\n",
    "        #Add returned cost to costs (which keeps track of the total costs for this epoch)\n",
    "        costs += loss\n",
    "        \n",
    "        #Add number of steps to iteration counter\n",
    "        iters += m.num_steps\n",
    "\n",
    "        if verbose and step % (epoch_size // 10) == 10:\n",
    "            print(\"Itr %d of %d, perplexity: %.3f speed: %.0f wps\" % (step , epoch_size, np.exp(costs / iters), iters * m.batch_size / (time.time() - start_time)))\n",
    "        \n",
    "\n",
    "\n",
    "    # Returns the Perplexity rating for us to keep track of how the model is evolving\n",
    "    return np.exp(costs / iters)\n"
   ]
  },
  {
   "cell_type": "markdown",
   "metadata": {},
   "source": [
    "Now, we create the <code>main</code> method to tie everything together. The code here reads the data from the directory, using the <code>reader</code> helper module, and then trains and evaluates the model on both a testing and a validating subset of data.\n"
   ]
  },
  {
   "cell_type": "code",
   "execution_count": 57,
   "metadata": {
    "tags": []
   },
   "outputs": [],
   "source": [
    "# Reads the data and separates it into training data, validation data and testing data\n",
    "raw_data = ptb_raw_data(data_dir)\n",
    "train_data, valid_data, test_data, _, _ = raw_data"
   ]
  },
  {
   "cell_type": "code",
   "execution_count": 58,
   "metadata": {
    "tags": []
   },
   "outputs": [
    {
     "name": "stdout",
     "output_type": "stream",
     "text": [
      "Model: \"sequential_1\"\n",
      "_________________________________________________________________\n",
      " Layer (type)                Output Shape              Param #   \n",
      "=================================================================\n",
      " embedding_vocab (Embedding)  (30, 20, 200)            2000000   \n",
      "                                                                 \n",
      " rnn_1 (RNN)                 (30, 20, 128)             671088    \n",
      "                                                                 \n",
      " dense_1 (Dense)             (30, 20, 10000)           1290000   \n",
      "                                                                 \n",
      " activation_1 (Activation)   (30, 20, 10000)           0         \n",
      "                                                                 \n",
      "=================================================================\n",
      "Total params: 3,961,088\n",
      "Trainable params: 3,955,088\n",
      "Non-trainable params: 6,000\n",
      "_________________________________________________________________\n",
      "Epoch 1 : Learning rate: 1.000\n",
      "Itr 10 of 1549, perplexity: 4597.209 speed: 1089 wps\n",
      "Itr 164 of 1549, perplexity: 1083.699 speed: 1166 wps\n",
      "Itr 318 of 1549, perplexity: 839.840 speed: 1161 wps\n",
      "Itr 472 of 1549, perplexity: 700.060 speed: 1173 wps\n",
      "Itr 626 of 1549, perplexity: 597.002 speed: 1181 wps\n",
      "Itr 780 of 1549, perplexity: 529.918 speed: 1187 wps\n",
      "Itr 934 of 1549, perplexity: 478.169 speed: 1190 wps\n",
      "Itr 1088 of 1549, perplexity: 438.813 speed: 1193 wps\n",
      "Itr 1242 of 1549, perplexity: 408.369 speed: 1195 wps\n",
      "Itr 1396 of 1549, perplexity: 380.227 speed: 1196 wps\n",
      "Epoch 1 : Train Perplexity: 358.114\n",
      "Epoch 1 : Valid Perplexity: 213.912\n",
      "Epoch 2 : Learning rate: 1.000\n",
      "Itr 10 of 1549, perplexity: 235.481 speed: 1192 wps\n",
      "Itr 164 of 1549, perplexity: 209.815 speed: 1209 wps\n",
      "Itr 318 of 1549, perplexity: 201.420 speed: 1209 wps\n",
      "Itr 472 of 1549, perplexity: 193.275 speed: 1207 wps\n",
      "Itr 626 of 1549, perplexity: 184.456 speed: 1200 wps\n",
      "Itr 780 of 1549, perplexity: 180.795 speed: 1194 wps\n",
      "Itr 934 of 1549, perplexity: 176.910 speed: 1191 wps\n",
      "Itr 1088 of 1549, perplexity: 173.563 speed: 1186 wps\n",
      "Itr 1242 of 1549, perplexity: 171.140 speed: 1185 wps\n",
      "Itr 1396 of 1549, perplexity: 167.072 speed: 1184 wps\n",
      "Epoch 2 : Train Perplexity: 164.240\n",
      "Epoch 2 : Valid Perplexity: 161.057\n",
      "Epoch 3 : Learning rate: 1.000\n",
      "Itr 10 of 1549, perplexity: 162.640 speed: 1165 wps\n",
      "Itr 164 of 1549, perplexity: 147.025 speed: 1147 wps\n",
      "Itr 318 of 1549, perplexity: 143.443 speed: 1157 wps\n",
      "Itr 472 of 1549, perplexity: 138.951 speed: 1158 wps\n",
      "Itr 626 of 1549, perplexity: 133.916 speed: 1163 wps\n",
      "Itr 780 of 1549, perplexity: 132.793 speed: 1117 wps\n",
      "Itr 934 of 1549, perplexity: 131.055 speed: 1111 wps\n",
      "Itr 1088 of 1549, perplexity: 129.553 speed: 1106 wps\n",
      "Itr 1242 of 1549, perplexity: 128.764 speed: 1108 wps\n",
      "Itr 1396 of 1549, perplexity: 126.434 speed: 1115 wps\n",
      "Epoch 3 : Train Perplexity: 125.128\n",
      "Epoch 3 : Valid Perplexity: 143.411\n",
      "Epoch 4 : Learning rate: 1.000\n",
      "Itr 10 of 1549, perplexity: 130.015 speed: 1170 wps\n",
      "Itr 164 of 1549, perplexity: 120.101 speed: 1174 wps\n",
      "Itr 318 of 1549, perplexity: 118.106 speed: 1162 wps\n",
      "Itr 472 of 1549, perplexity: 114.823 speed: 1166 wps\n",
      "Itr 626 of 1549, perplexity: 110.989 speed: 1159 wps\n",
      "Itr 780 of 1549, perplexity: 110.546 speed: 1159 wps\n",
      "Itr 934 of 1549, perplexity: 109.478 speed: 1159 wps\n",
      "Itr 1088 of 1549, perplexity: 108.526 speed: 1157 wps\n",
      "Itr 1242 of 1549, perplexity: 108.140 speed: 1158 wps\n",
      "Itr 1396 of 1549, perplexity: 106.428 speed: 1158 wps\n",
      "Epoch 4 : Train Perplexity: 105.626\n",
      "Epoch 4 : Valid Perplexity: 135.616\n",
      "Epoch 5 : Learning rate: 1.000\n",
      "Itr 10 of 1549, perplexity: 112.596 speed: 1187 wps\n",
      "Itr 164 of 1549, perplexity: 104.101 speed: 972 wps\n",
      "Itr 318 of 1549, perplexity: 102.737 speed: 870 wps\n",
      "Itr 472 of 1549, perplexity: 99.885 speed: 841 wps\n",
      "Itr 626 of 1549, perplexity: 96.761 speed: 832 wps\n",
      "Itr 780 of 1549, perplexity: 96.626 speed: 825 wps\n",
      "Itr 934 of 1549, perplexity: 95.908 speed: 826 wps\n",
      "Itr 1088 of 1549, perplexity: 95.274 speed: 858 wps\n",
      "Itr 1242 of 1549, perplexity: 95.131 speed: 886 wps\n",
      "Itr 1396 of 1549, perplexity: 93.794 speed: 910 wps\n",
      "Epoch 5 : Train Perplexity: 93.265\n",
      "Epoch 5 : Valid Perplexity: 132.710\n",
      "Epoch 6 : Learning rate: 0.500\n",
      "Itr 10 of 1549, perplexity: 99.581 speed: 1200 wps\n",
      "Itr 164 of 1549, perplexity: 90.598 speed: 1210 wps\n",
      "Itr 318 of 1549, perplexity: 88.194 speed: 1204 wps\n",
      "Itr 472 of 1549, perplexity: 84.765 speed: 1206 wps\n",
      "Itr 626 of 1549, perplexity: 81.282 speed: 1204 wps\n",
      "Itr 780 of 1549, perplexity: 80.580 speed: 1207 wps\n",
      "Itr 934 of 1549, perplexity: 79.378 speed: 1207 wps\n",
      "Itr 1088 of 1549, perplexity: 78.290 speed: 1208 wps\n",
      "Itr 1242 of 1549, perplexity: 77.568 speed: 1206 wps\n",
      "Itr 1396 of 1549, perplexity: 75.916 speed: 1205 wps\n",
      "Epoch 6 : Train Perplexity: 74.928\n",
      "Epoch 6 : Valid Perplexity: 122.472\n",
      "Epoch 7 : Learning rate: 0.250\n",
      "Itr 10 of 1549, perplexity: 84.370 speed: 1183 wps\n",
      "Itr 164 of 1549, perplexity: 77.733 speed: 1169 wps\n",
      "Itr 318 of 1549, perplexity: 75.812 speed: 1166 wps\n",
      "Itr 472 of 1549, perplexity: 72.964 speed: 1164 wps\n",
      "Itr 626 of 1549, perplexity: 69.884 speed: 1168 wps\n",
      "Itr 780 of 1549, perplexity: 69.261 speed: 1169 wps\n",
      "Itr 934 of 1549, perplexity: 68.147 speed: 1170 wps\n",
      "Itr 1088 of 1549, perplexity: 67.101 speed: 1168 wps\n",
      "Itr 1242 of 1549, perplexity: 66.317 speed: 1167 wps\n",
      "Itr 1396 of 1549, perplexity: 64.742 speed: 1160 wps\n",
      "Epoch 7 : Train Perplexity: 63.733\n",
      "Epoch 7 : Valid Perplexity: 120.421\n",
      "Epoch 8 : Learning rate: 0.125\n",
      "Itr 10 of 1549, perplexity: 76.072 speed: 1169 wps\n",
      "Itr 164 of 1549, perplexity: 70.605 speed: 903 wps\n",
      "Itr 318 of 1549, perplexity: 68.981 speed: 822 wps\n",
      "Itr 472 of 1549, perplexity: 66.442 speed: 787 wps\n",
      "Itr 626 of 1549, perplexity: 63.619 speed: 771 wps\n",
      "Itr 780 of 1549, perplexity: 63.042 speed: 761 wps\n",
      "Itr 934 of 1549, perplexity: 62.021 speed: 811 wps\n",
      "Itr 1088 of 1549, perplexity: 61.031 speed: 850 wps\n",
      "Itr 1242 of 1549, perplexity: 60.250 speed: 880 wps\n",
      "Itr 1396 of 1549, perplexity: 58.766 speed: 905 wps\n",
      "Epoch 8 : Train Perplexity: 57.790\n",
      "Epoch 8 : Valid Perplexity: 120.045\n",
      "Epoch 9 : Learning rate: 0.062\n",
      "Itr 10 of 1549, perplexity: 72.209 speed: 1199 wps\n",
      "Itr 164 of 1549, perplexity: 66.845 speed: 1175 wps\n",
      "Itr 318 of 1549, perplexity: 65.395 speed: 1186 wps\n",
      "Itr 472 of 1549, perplexity: 63.017 speed: 1187 wps\n",
      "Itr 626 of 1549, perplexity: 60.341 speed: 1190 wps\n",
      "Itr 780 of 1549, perplexity: 59.795 speed: 1192 wps\n",
      "Itr 934 of 1549, perplexity: 58.841 speed: 1192 wps\n",
      "Itr 1088 of 1549, perplexity: 57.876 speed: 1193 wps\n",
      "Itr 1242 of 1549, perplexity: 57.105 speed: 1194 wps\n",
      "Itr 1396 of 1549, perplexity: 55.670 speed: 1196 wps\n",
      "Epoch 9 : Train Perplexity: 54.716\n",
      "Epoch 9 : Valid Perplexity: 120.048\n",
      "Epoch 10 : Learning rate: 0.031\n",
      "Itr 10 of 1549, perplexity: 70.040 speed: 1191 wps\n",
      "Itr 164 of 1549, perplexity: 64.863 speed: 1217 wps\n",
      "Itr 318 of 1549, perplexity: 63.505 speed: 1212 wps\n",
      "Itr 472 of 1549, perplexity: 61.201 speed: 1210 wps\n",
      "Itr 626 of 1549, perplexity: 58.603 speed: 1210 wps\n",
      "Itr 780 of 1549, perplexity: 58.065 speed: 1196 wps\n",
      "Itr 934 of 1549, perplexity: 57.150 speed: 1193 wps\n",
      "Itr 1088 of 1549, perplexity: 56.192 speed: 1188 wps\n",
      "Itr 1242 of 1549, perplexity: 55.435 speed: 1187 wps\n",
      "Itr 1396 of 1549, perplexity: 54.024 speed: 1185 wps\n",
      "Epoch 10 : Train Perplexity: 53.083\n",
      "Epoch 10 : Valid Perplexity: 119.952\n",
      "Epoch 11 : Learning rate: 0.016\n",
      "Itr 10 of 1549, perplexity: 68.700 speed: 1150 wps\n",
      "Itr 164 of 1549, perplexity: 63.774 speed: 1170 wps\n",
      "Itr 318 of 1549, perplexity: 62.464 speed: 1167 wps\n",
      "Itr 472 of 1549, perplexity: 60.225 speed: 1163 wps\n",
      "Itr 626 of 1549, perplexity: 57.673 speed: 1163 wps\n",
      "Itr 780 of 1549, perplexity: 57.135 speed: 1165 wps\n",
      "Itr 934 of 1549, perplexity: 56.234 speed: 1165 wps\n",
      "Itr 1088 of 1549, perplexity: 55.279 speed: 1169 wps\n",
      "Itr 1242 of 1549, perplexity: 54.531 speed: 1167 wps\n",
      "Itr 1396 of 1549, perplexity: 53.131 speed: 1168 wps\n",
      "Epoch 11 : Train Perplexity: 52.197\n",
      "Epoch 11 : Valid Perplexity: 119.765\n",
      "Epoch 12 : Learning rate: 0.008\n",
      "Itr 10 of 1549, perplexity: 67.883 speed: 1174 wps\n",
      "Itr 164 of 1549, perplexity: 63.169 speed: 1178 wps\n",
      "Itr 318 of 1549, perplexity: 61.878 speed: 1173 wps\n",
      "Itr 472 of 1549, perplexity: 59.689 speed: 1166 wps\n",
      "Itr 626 of 1549, perplexity: 57.173 speed: 1166 wps\n",
      "Itr 780 of 1549, perplexity: 56.632 speed: 1164 wps\n",
      "Itr 934 of 1549, perplexity: 55.732 speed: 1164 wps\n",
      "Itr 1088 of 1549, perplexity: 54.782 speed: 1165 wps\n",
      "Itr 1242 of 1549, perplexity: 54.035 speed: 1162 wps\n",
      "Itr 1396 of 1549, perplexity: 52.642 speed: 1163 wps\n",
      "Epoch 12 : Train Perplexity: 51.712\n",
      "Epoch 12 : Valid Perplexity: 119.543\n",
      "Epoch 13 : Learning rate: 0.004\n",
      "Itr 472 of 1549, perplexity: 59.395 speed: 1183 wps\n",
      "Itr 626 of 1549, perplexity: 56.895 speed: 1188 wps\n",
      "Itr 780 of 1549, perplexity: 56.355 speed: 1191 wps\n",
      "Itr 934 of 1549, perplexity: 55.458 speed: 1193 wps\n",
      "Itr 1088 of 1549, perplexity: 54.511 speed: 1194 wps\n",
      "Itr 1242 of 1549, perplexity: 53.763 speed: 1196 wps\n",
      "Itr 1396 of 1549, perplexity: 52.376 speed: 1196 wps\n",
      "Epoch 13 : Train Perplexity: 51.449\n",
      "Epoch 13 : Valid Perplexity: 119.331\n",
      "Epoch 14 : Learning rate: 0.002\n",
      "Itr 10 of 1549, perplexity: 67.173 speed: 1204 wps\n",
      "Itr 164 of 1549, perplexity: 62.642 speed: 1207 wps\n",
      "Itr 318 of 1549, perplexity: 61.376 speed: 1206 wps\n",
      "Itr 472 of 1549, perplexity: 59.234 speed: 1201 wps\n",
      "Itr 626 of 1549, perplexity: 56.742 speed: 1185 wps\n",
      "Itr 780 of 1549, perplexity: 56.204 speed: 1179 wps\n",
      "Itr 934 of 1549, perplexity: 55.310 speed: 1177 wps\n",
      "Itr 1088 of 1549, perplexity: 54.365 speed: 1176 wps\n",
      "Itr 1242 of 1549, perplexity: 53.617 speed: 1173 wps\n",
      "Itr 1396 of 1549, perplexity: 52.234 speed: 1173 wps\n",
      "Epoch 14 : Train Perplexity: 51.309\n",
      "Epoch 14 : Valid Perplexity: 119.181\n",
      "Epoch 15 : Learning rate: 0.001\n",
      "Itr 10 of 1549, perplexity: 67.043 speed: 1170 wps\n",
      "Itr 164 of 1549, perplexity: 62.527 speed: 1176 wps\n",
      "Itr 318 of 1549, perplexity: 61.271 speed: 1170 wps\n",
      "Itr 472 of 1549, perplexity: 59.142 speed: 1174 wps\n",
      "Itr 626 of 1549, perplexity: 56.657 speed: 1169 wps\n",
      "Itr 780 of 1549, perplexity: 56.121 speed: 1175 wps\n",
      "Itr 934 of 1549, perplexity: 55.229 speed: 1175 wps\n",
      "Itr 1088 of 1549, perplexity: 54.287 speed: 1172 wps\n",
      "Itr 1242 of 1549, perplexity: 53.540 speed: 1178 wps\n",
      "Itr 1396 of 1549, perplexity: 52.158 speed: 1181 wps\n",
      "Epoch 15 : Train Perplexity: 51.235\n",
      "Epoch 15 : Valid Perplexity: 119.100\n",
      "Test Perplexity: 114.868\n"
     ]
    }
   ],
   "source": [
    "# Instantiates the PTBModel class\n",
    "m=PTBModel.instance()   \n",
    "K = tf.keras.backend \n",
    "for i in range(max_epoch):\n",
    "    # Define the decay for this epoch\n",
    "    lr_decay = decay ** max(i - max_epoch_decay_lr, 0.0)\n",
    "    dcr = learning_rate * lr_decay\n",
    "    m._lr = dcr\n",
    "    K.set_value(m._model.optimizer.learning_rate,m._lr)\n",
    "    print(\"Epoch %d : Learning rate: %.3f\" % (i + 1, m._model.optimizer.learning_rate))\n",
    "    # Run the loop for this epoch in the training mode\n",
    "    train_perplexity = run_one_epoch(m, train_data,is_training=True,verbose=True)\n",
    "    print(\"Epoch %d : Train Perplexity: %.3f\" % (i + 1, train_perplexity))\n",
    "        \n",
    "    # Run the loop for this epoch in the validation mode\n",
    "    valid_perplexity = run_one_epoch(m, valid_data,is_training=False,verbose=False)\n",
    "    print(\"Epoch %d : Valid Perplexity: %.3f\" % (i + 1, valid_perplexity))\n",
    "    \n",
    "# Run the loop in the testing mode to see how effective was our training\n",
    "test_perplexity = run_one_epoch(m, test_data,is_training=False,verbose=False)\n",
    "print(\"Test Perplexity: %.3f\" % test_perplexity)\n",
    "\n"
   ]
  },
  {
   "cell_type": "markdown",
   "metadata": {},
   "source": [
    "As you can see, the model's perplexity rating drops very quickly after a few iterations. As was elaborated before, <b>lower Perplexity means that the model is more certain about its prediction</b>. As such, we can be sure that this model is performing well!\n"
   ]
  },
  {
   "cell_type": "markdown",
   "metadata": {},
   "source": [
    "-------\n"
   ]
  },
  {
   "cell_type": "markdown",
   "metadata": {},
   "source": [
    "This is the end of the <b>Applying Recurrent Neural Networks to Text Processing</b> notebook. Hopefully you now have a better understanding of Recurrent Neural Networks and how to implement one utilizing TensorFlow. Thank you for reading this notebook, and good luck on your studies.\n"
   ]
  },
  {
   "cell_type": "markdown",
   "metadata": {},
   "source": [
    "## Want to learn more?\n",
    "\n",
    "Also, you can use __Watson Studio__ to run these notebooks faster with bigger datasets.__Watson Studio__ is IBM’s leading cloud solution for data scientists, built by data scientists. With Jupyter notebooks, RStudio, Apache Spark and popular libraries pre-packaged in the cloud, __Watson Studio__ enables data scientists to collaborate on their projects without having to install anything. Join the fast-growing community of __Watson Studio__ users today with a free account at [Watson Studio](https://cocl.us/ML0120EN_DSX).This is the end of this lesson. Thank you for reading this notebook, and good luck on your studies.\n"
   ]
  },
  {
   "cell_type": "markdown",
   "metadata": {},
   "source": [
    "### Thanks for completing this lesson!\n",
    "\n",
    "Notebook created by <a href=\"https://br.linkedin.com/in/walter-gomes-de-amorim-junior-624726121?utm_medium=Exinfluencer&utm_source=Exinfluencer&utm_content=000026UJ&utm_term=10006555&utm_id=NA-SkillsNetwork-Channel-SkillsNetworkCoursesIBMDeveloperSkillsNetworkDL0120ENSkillsNetwork954-2023-01-01\">Walter Gomes de Amorim Junior</a>, <a href = \"https://linkedin.com/in/saeedaghabozorgi\"> Saeed Aghabozorgi </a></h4>\n",
    "\n",
    "\n",
    "Updated to TF 2.X by  <a href=\"https://www.linkedin.com/in/samaya-madhavan?utm_medium=Exinfluencer&utm_source=Exinfluencer&utm_content=000026UJ&utm_term=10006555&utm_id=NA-SkillsNetwork-Channel-SkillsNetworkCoursesIBMDeveloperSkillsNetworkDL0120ENSkillsNetwork954-2023-01-01\"> Samaya Madhavan </a>\n"
   ]
  },
  {
   "cell_type": "markdown",
   "metadata": {},
   "source": [
    "<hr>\n",
    "\n",
    "Copyright &copy; 2018 [Cognitive Class](https://cocl.us/DX0108EN_CC). This notebook and its source code are released under the terms of the [MIT License](https://bigdatauniversity.com/mit-license/?utm_medium=Exinfluencer&utm_source=Exinfluencer&utm_content=000026UJ&utm_term=10006555&utm_id=NA-SkillsNetwork-Channel-SkillsNetworkCoursesIBMDeveloperSkillsNetworkDL0120ENSkillsNetwork954-2023-01-01).\n"
   ]
  }
 ],
 "metadata": {
  "kernelspec": {
   "display_name": "Python",
   "language": "python",
   "name": "conda-env-python-py"
  },
  "language_info": {
   "codemirror_mode": {
    "name": "ipython",
    "version": 3
   },
   "file_extension": ".py",
   "mimetype": "text/x-python",
   "name": "python",
   "nbconvert_exporter": "python",
   "pygments_lexer": "ipython3",
   "version": "3.7.12"
  }
 },
 "nbformat": 4,
 "nbformat_minor": 4
}
